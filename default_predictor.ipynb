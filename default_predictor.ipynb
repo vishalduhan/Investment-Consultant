{
 "cells": [
  {
   "cell_type": "markdown",
   "metadata": {},
   "source": [
    "### Introduction"
   ]
  },
  {
   "cell_type": "markdown",
   "metadata": {},
   "source": [
    " Lending Club is a US peer-to-peer lending company that provides a largest peer-to-peer online lending platform. The Lending Club’s platform enables borrowers to obtain a loan funded by investors. Investors profit from interest payments on loans. Based on the levels of loans' default rate, Lending categorizes the quality of the loans into seven grades, each of which assigned with different interest rates and risks. From the investors' point of view, they want to find out the potential default rate of each specific loans, in order to avoid investing on those loans with high risk of default."
   ]
  },
  {
   "cell_type": "markdown",
   "metadata": {},
   "source": [
    "**Goal of this project is to build a predictive model to predict the default rate of the newly issued loans, based on information from historic loans.**"
   ]
  },
  {
   "cell_type": "markdown",
   "metadata": {},
   "source": [
    "The model is trained on data of 2015 year and tested on data from 2016 year.\n",
    "Data cleaning are performed to uniform the features used in the training set and the target set. Categorical variables are extracted into meaningful features for model input via feature engineering. XGBoost is used as the modeling algorithm. As a advanced Gradient Boosted Regression Trees (GBRT) algorithm, XGBoost adopted several advantages of GBRT such as: natural handling of data of mixed type , predictive power, robustness to outliers in output space (via robust loss functions). Combining both Random Forest and Adaptive Gradent Boosting algorithms, XGBoost exhibited high efficiency and flexibility in modeling large datasets with ease of implementation."
   ]
  },
  {
   "cell_type": "markdown",
   "metadata": {},
   "source": [
    "## Import Libraries"
   ]
  },
  {
   "cell_type": "code",
   "execution_count": 235,
   "metadata": {},
   "outputs": [],
   "source": [
    "import numpy as np\n",
    "import pandas as pd\n",
    "import matplotlib.pyplot as plt\n",
    "pd.set_option('display.max_columns',100)\n",
    "pd.set_option('display.max_rows', 5000)\n",
    "import seaborn as sns\n",
    "import datetime as dt\n",
    "from sklearn.ensemble import RandomForestClassifier\n",
    "from sklearn.ensemble import GradientBoostingClassifier\n",
    "from sklearn.svm import SVR\n",
    "from sklearn.model_selection import RandomizedSearchCV\n",
    "import xgboost as xgb\n",
    "from bayes_opt import BayesianOptimization\n",
    "from sklearn import metrics, preprocessing\n",
    "from sklearn.model_selection import cross_val_score\n",
    "from sklearn.metrics import confusion_matrix\n",
    "from sklearn.metrics import accuracy_score\n",
    "from sklearn.model_selection import StratifiedKFold\n",
    "from sklearn.model_selection import train_test_split\n",
    "from sklearn.metrics import roc_curve, auc\n",
    "from sklearn import linear_model, datasets\n",
    "import pickle"
   ]
  },
  {
   "cell_type": "markdown",
   "metadata": {},
   "source": [
    "Train data is imported here"
   ]
  },
  {
   "cell_type": "code",
   "execution_count": 12,
   "metadata": {},
   "outputs": [],
   "source": [
    "big_data=pd.read_csv(\"bigdata.csv\")"
   ]
  },
  {
   "cell_type": "markdown",
   "metadata": {},
   "source": [
    "Now we extract our train data from big_data.csv"
   ]
  },
  {
   "cell_type": "code",
   "execution_count": 13,
   "metadata": {},
   "outputs": [],
   "source": [
    "issue_list=[\"Jan-2015\",\"Feb-2015\",\"Mar-2015\",\"Apr-2015\",\"May-2015\",\"Jun-2015\",\"Jul-2015\",\"Aug-2015\",\"Sep-2015\",\"Oct-2015\",\"Nov-2015\",\"Dec-2015\"]"
   ]
  },
  {
   "cell_type": "code",
   "execution_count": 14,
   "metadata": {},
   "outputs": [],
   "source": [
    "train_data=big_data[big_data['issue_d'].isin(issue_list)]"
   ]
  },
  {
   "cell_type": "code",
   "execution_count": 15,
   "metadata": {},
   "outputs": [
    {
     "data": {
      "text/plain": [
       "(421095, 150)"
      ]
     },
     "execution_count": 15,
     "metadata": {},
     "output_type": "execute_result"
    }
   ],
   "source": [
    "train_data.shape"
   ]
  },
  {
   "cell_type": "markdown",
   "metadata": {},
   "source": [
    "We extract test data from big chunk of data"
   ]
  },
  {
   "cell_type": "code",
   "execution_count": 16,
   "metadata": {},
   "outputs": [],
   "source": [
    "issue2_list=[\"Jan-2016\",\"Feb-2016\",\"Mar-2016\",\"Apr-2016\",\"May-2016\",\"Jun-2016\",\"Jul-2016\",\"Aug-2016\",\"Sep-2016\",\"Oct-2016\",\"Nov-2016\",\"Dec-2016\"]"
   ]
  },
  {
   "cell_type": "code",
   "execution_count": 17,
   "metadata": {},
   "outputs": [],
   "source": [
    "test_data=big_data[big_data['issue_d'].isin(issue2_list)]"
   ]
  },
  {
   "cell_type": "markdown",
   "metadata": {},
   "source": [
    "## Feature exploration"
   ]
  },
  {
   "cell_type": "code",
   "execution_count": 18,
   "metadata": {},
   "outputs": [
    {
     "data": {
      "text/plain": [
       "Fully Paid            299742\n",
       "Charged Off            75803\n",
       "Current                43299\n",
       "Late (31-120 days)      1359\n",
       "In Grace Period          612\n",
       "Late (16-30 days)        279\n",
       "Default                    1\n",
       "Name: loan_status, dtype: int64"
      ]
     },
     "execution_count": 18,
     "metadata": {},
     "output_type": "execute_result"
    }
   ],
   "source": [
    "train_data['loan_status'].value_counts()"
   ]
  },
  {
   "cell_type": "code",
   "execution_count": 19,
   "metadata": {},
   "outputs": [
    {
     "data": {
      "text/plain": [
       "<matplotlib.axes._subplots.AxesSubplot at 0x1a254e1f60>"
      ]
     },
     "execution_count": 19,
     "metadata": {},
     "output_type": "execute_result"
    },
    {
     "data": {
      "image/png": "[encoded data removed]",
      "text/plain": [
       "<Figure size 432x288 with 1 Axes>"
      ]
     },
     "metadata": {
      "needs_background": "light"
     },
     "output_type": "display_data"
    }
   ],
   "source": [
    "train_data['loan_status'].value_counts().plot(kind='bar')"
   ]
  },
  {
   "cell_type": "code",
   "execution_count": 20,
   "metadata": {},
   "outputs": [
    {
     "data": {
      "text/plain": [
       "(array([283173.,      0.,      0.,      0.,      0.,      0.,      0.,\n",
       "             0.,      0., 137922.]),\n",
       " array([0. , 0.1, 0.2, 0.3, 0.4, 0.5, 0.6, 0.7, 0.8, 0.9, 1. ]),\n",
       " <a list of 10 Patch objects>)"
      ]
     },
     "execution_count": 20,
     "metadata": {},
     "output_type": "execute_result"
    },
    {
     "data": {
      "image/png": "[encoded data removed]",
      "text/plain": [
       "<Figure size 432x288 with 1 Axes>"
      ]
     },
     "metadata": {
      "needs_background": "light"
     },
     "output_type": "display_data"
    }
   ],
   "source": [
    "plt.hist(train_data['term'])"
   ]
  },
  {
   "cell_type": "code",
   "execution_count": 21,
   "metadata": {},
   "outputs": [
    {
     "data": {
      "text/plain": [
       "<matplotlib.axes._subplots.AxesSubplot at 0x1a647a6630>"
      ]
     },
     "execution_count": 21,
     "metadata": {},
     "output_type": "execute_result"
    },
    {
     "data": {
      "image/png": "[encoded data removed]",
      "text/plain": [
       "<Figure size 432x288 with 1 Axes>"
      ]
     },
     "metadata": {
      "needs_background": "light"
     },
     "output_type": "display_data"
    }
   ],
   "source": [
    "sns.countplot(x='term',hue='loan_status',data=train_data)"
   ]
  },
  {
   "cell_type": "markdown",
   "metadata": {},
   "source": [
    "Changing columns names for train and test data. removing \"_\" from column names"
   ]
  },
  {
   "cell_type": "code",
   "execution_count": 22,
   "metadata": {},
   "outputs": [],
   "source": [
    "cols = []\n",
    "for col in train_data.columns:\n",
    "    cols.append(col.replace(\"_\", \"\"))"
   ]
  },
  {
   "cell_type": "code",
   "execution_count": 23,
   "metadata": {},
   "outputs": [],
   "source": [
    "train_data.columns=cols"
   ]
  },
  {
   "cell_type": "code",
   "execution_count": 24,
   "metadata": {},
   "outputs": [],
   "source": [
    "cols = []\n",
    "for col in test_data.columns:\n",
    "    cols.append(col.replace(\"_\", \"\"))"
   ]
  },
  {
   "cell_type": "code",
   "execution_count": 25,
   "metadata": {},
   "outputs": [],
   "source": [
    "test_data.columns=cols"
   ]
  },
  {
   "cell_type": "code",
   "execution_count": 26,
   "metadata": {},
   "outputs": [
    {
     "data": {
      "text/plain": [
       "id                                        421095\n",
       "memberid                                       0\n",
       "loanamnt                                  421095\n",
       "fundedamnt                                421095\n",
       "fundedamntinv                             421095\n",
       "term                                      421095\n",
       "intrate                                   421095\n",
       "installment                               421095\n",
       "grade                                     421095\n",
       "subgrade                                  421095\n",
       "emptitle                                  397221\n",
       "emplength                                 397278\n",
       "homeownership                             421095\n",
       "annualinc                                 421095\n",
       "verificationstatus                        421095\n",
       "issued                                    421095\n",
       "loanstatus                                421095\n",
       "pymntplan                                 421095\n",
       "url                                       421095\n",
       "desc                                          45\n",
       "purpose                                   421095\n",
       "title                                     420963\n",
       "zipcode                                   421095\n",
       "addrstate                                 421095\n",
       "dti                                       421093\n",
       "delinq2yrs                                421095\n",
       "earliestcrline                            421095\n",
       "ficorangelow                              421095\n",
       "ficorangehigh                             421095\n",
       "inqlast6mths                              421095\n",
       "mthssincelastdelinq                       217133\n",
       "mthssincelastrecord                        74415\n",
       "openacc                                   421095\n",
       "pubrec                                    421095\n",
       "revolbal                                  421095\n",
       "revolutil                                 420933\n",
       "totalacc                                  421095\n",
       "initialliststatus                         421095\n",
       "outprncp                                  421095\n",
       "outprncpinv                               421095\n",
       "totalpymnt                                421095\n",
       "totalpymntinv                             421095\n",
       "totalrecprncp                             421095\n",
       "totalrecint                               421095\n",
       "totalreclatefee                           421095\n",
       "recoveries                                421095\n",
       "collectionrecoveryfee                     421095\n",
       "lastpymntd                                420801\n",
       "lastpymntamnt                             421095\n",
       "nextpymntd                                 45550\n",
       "lastcreditpulld                           421088\n",
       "lastficorangehigh                         421095\n",
       "lastficorangelow                          421095\n",
       "collections12mthsexmed                    421095\n",
       "mthssincelastmajorderog                   122729\n",
       "policycode                                421095\n",
       "applicationtype                           421095\n",
       "annualincjoint                               511\n",
       "dtijoint                                     509\n",
       "verificationstatusjoint                      511\n",
       "accnowdelinq                              421095\n",
       "totcollamt                                421095\n",
       "totcurbal                                 421095\n",
       "openacc6m                                  21372\n",
       "openactil                                  21372\n",
       "openil12m                                  21372\n",
       "openil24m                                  21372\n",
       "mthssincercntil                            20810\n",
       "totalbalil                                 21372\n",
       "ilutil                                     18617\n",
       "openrv12m                                  21372\n",
       "openrv24m                                  21372\n",
       "maxbalbc                                   21372\n",
       "allutil                                    21372\n",
       "totalrevhilim                             421095\n",
       "inqfi                                      21372\n",
       "totalcutl                                  21372\n",
       "inqlast12m                                 21372\n",
       "accopenpast24mths                         421095\n",
       "avgcurbal                                 421095\n",
       "bcopentobuy                               417132\n",
       "bcutil                                    416868\n",
       "chargeoffwithin12mths                     421095\n",
       "delinqamnt                                421095\n",
       "mosinoldilacct                            408841\n",
       "mosinoldrevtlop                           421095\n",
       "mosinrcntrevtlop                          421095\n",
       "mosinrcnttl                               421095\n",
       "mortacc                                   421095\n",
       "mthssincerecentbc                         417297\n",
       "mthssincerecentbcdlq                      108600\n",
       "mthssincerecentinq                        376496\n",
       "mthssincerecentrevoldelinq                151737\n",
       "numacctsever120pd                         421095\n",
       "numactvbctl                               421095\n",
       "numactvrevtl                              421095\n",
       "numbcsats                                 421095\n",
       "numbctl                                   421095\n",
       "numiltl                                   421095\n",
       "numoprevtl                                421095\n",
       "numrevaccts                               421094\n",
       "numrevtlbalgt0                            421095\n",
       "numsats                                   421095\n",
       "numtl120dpd2m                             401865\n",
       "numtl30dpd                                421095\n",
       "numtl90gdpd24m                            421095\n",
       "numtloppast12m                            421095\n",
       "pcttlnvrdlq                               421095\n",
       "percentbcgt75                             416856\n",
       "pubrecbankruptcies                        421095\n",
       "taxliens                                  421095\n",
       "tothicredlim                              421095\n",
       "totalbalexmort                            421095\n",
       "totalbclimit                              421095\n",
       "totalilhighcreditlimit                    421095\n",
       "revolbaljoint                                  0\n",
       "secappficorangelow                             0\n",
       "secappficorangehigh                            0\n",
       "secappearliestcrline                           0\n",
       "secappinqlast6mths                             0\n",
       "secappmortacc                                  0\n",
       "secappopenacc                                  0\n",
       "secapprevolutil                                0\n",
       "secappopenactil                                0\n",
       "secappnumrevaccts                              0\n",
       "secappchargeoffwithin12mths                    0\n",
       "secappcollections12mthsexmed                   0\n",
       "secappmthssincelastmajorderog                  0\n",
       "hardshipflag                              421095\n",
       "hardshiptype                                2580\n",
       "hardshipreason                              2580\n",
       "hardshipstatus                              2580\n",
       "deferralterm                                2580\n",
       "hardshipamount                              2580\n",
       "hardshipstartdate                           2580\n",
       "hardshipenddate                             2580\n",
       "paymentplanstartdate                        2580\n",
       "hardshiplength                              2580\n",
       "hardshipdpd                                 2580\n",
       "hardshiploanstatus                          2580\n",
       "origprojectedadditionalaccruedinterest      2097\n",
       "hardshippayoffbalanceamount                 2580\n",
       "hardshiplastpaymentamount                   2580\n",
       "debtsettlementflag                        421095\n",
       "debtsettlementflagdate                     11552\n",
       "settlementstatus                           11552\n",
       "settlementdate                             11552\n",
       "settlementamount                           11552\n",
       "settlementpercentage                       11552\n",
       "settlementterm                             11552\n",
       "dtype: int64"
      ]
     },
     "execution_count": 26,
     "metadata": {},
     "output_type": "execute_result"
    }
   ],
   "source": [
    "train_data.notnull().sum()"
   ]
  },
  {
   "cell_type": "markdown",
   "metadata": {},
   "source": [
    "Removing columns that are more have 10% Null values"
   ]
  },
  {
   "cell_type": "code",
   "execution_count": 27,
   "metadata": {},
   "outputs": [],
   "source": [
    "null_columns=train_data.columns[train_data.isnull().mean()>0.1]"
   ]
  },
  {
   "cell_type": "code",
   "execution_count": 28,
   "metadata": {},
   "outputs": [
    {
     "name": "stderr",
     "output_type": "stream",
     "text": [
      "/Users/vishalduhan/anaconda3/lib/python3.7/site-packages/pandas/core/frame.py:3997: SettingWithCopyWarning: \n",
      "A value is trying to be set on a copy of a slice from a DataFrame\n",
      "\n",
      "See the caveats in the documentation: https://pandas.pydata.org/pandas-docs/stable/user_guide/indexing.html#returning-a-view-versus-a-copy\n",
      "  errors=errors,\n"
     ]
    }
   ],
   "source": [
    "train_data.drop(null_columns,axis=1,inplace=True)"
   ]
  },
  {
   "cell_type": "code",
   "execution_count": 29,
   "metadata": {},
   "outputs": [],
   "source": [
    "test_data=test_data[list(train_data.columns)]"
   ]
  },
  {
   "cell_type": "code",
   "execution_count": 30,
   "metadata": {},
   "outputs": [
    {
     "data": {
      "text/plain": [
       "(421095, 91)"
      ]
     },
     "execution_count": 30,
     "metadata": {},
     "output_type": "execute_result"
    }
   ],
   "source": [
    "train_data.shape"
   ]
  },
  {
   "cell_type": "code",
   "execution_count": 31,
   "metadata": {},
   "outputs": [
    {
     "data": {
      "text/plain": [
       "(434407, 91)"
      ]
     },
     "execution_count": 31,
     "metadata": {},
     "output_type": "execute_result"
    }
   ],
   "source": [
    "test_data.shape"
   ]
  },
  {
   "cell_type": "markdown",
   "metadata": {},
   "source": [
    "Checking if train data and test data has same columns"
   ]
  },
  {
   "cell_type": "code",
   "execution_count": 32,
   "metadata": {},
   "outputs": [],
   "source": [
    "com_cols = set(train_data.columns) - set(test_data.columns)"
   ]
  },
  {
   "cell_type": "code",
   "execution_count": 33,
   "metadata": {},
   "outputs": [
    {
     "data": {
      "text/plain": [
       "set()"
      ]
     },
     "execution_count": 33,
     "metadata": {},
     "output_type": "execute_result"
    }
   ],
   "source": [
    "com_cols"
   ]
  },
  {
   "cell_type": "markdown",
   "metadata": {},
   "source": [
    "We only want the data that has reached either default stage or Fully Paid stage."
   ]
  },
  {
   "cell_type": "code",
   "execution_count": 34,
   "metadata": {},
   "outputs": [],
   "source": [
    "required_status=[\"Charged Off\",\"Fully Paid\"]\n",
    "train_data=train_data[train_data[\"loanstatus\"].isin(required_status)]"
   ]
  },
  {
   "cell_type": "code",
   "execution_count": 35,
   "metadata": {},
   "outputs": [
    {
     "data": {
      "text/plain": [
       "(375545, 91)"
      ]
     },
     "execution_count": 35,
     "metadata": {},
     "output_type": "execute_result"
    }
   ],
   "source": [
    "train_data.shape"
   ]
  },
  {
   "cell_type": "code",
   "execution_count": 36,
   "metadata": {},
   "outputs": [],
   "source": [
    "#test_data_y=test_data[[\"loanstatus\",\"issued\"]]"
   ]
  },
  {
   "cell_type": "code",
   "execution_count": 37,
   "metadata": {},
   "outputs": [],
   "source": [
    "#test_data.drop([\"loanstatus\",\"issued\"],axis=1,inplace=True)"
   ]
  },
  {
   "cell_type": "code",
   "execution_count": 38,
   "metadata": {},
   "outputs": [
    {
     "data": {
      "text/html": [
       "<div>\n",
       "<style scoped>\n",
       "    .dataframe tbody tr th:only-of-type {\n",
       "        vertical-align: middle;\n",
       "    }\n",
       "\n",
       "    .dataframe tbody tr th {\n",
       "        vertical-align: top;\n",
       "    }\n",
       "\n",
       "    .dataframe thead th {\n",
       "        text-align: right;\n",
       "    }\n",
       "</style>\n",
       "<table border=\"1\" class=\"dataframe\">\n",
       "  <thead>\n",
       "    <tr style=\"text-align: right;\">\n",
       "      <th></th>\n",
       "      <th>id</th>\n",
       "      <th>loanamnt</th>\n",
       "      <th>fundedamnt</th>\n",
       "      <th>fundedamntinv</th>\n",
       "      <th>term</th>\n",
       "      <th>intrate</th>\n",
       "      <th>installment</th>\n",
       "      <th>grade</th>\n",
       "      <th>subgrade</th>\n",
       "      <th>emptitle</th>\n",
       "      <th>emplength</th>\n",
       "      <th>homeownership</th>\n",
       "      <th>annualinc</th>\n",
       "      <th>verificationstatus</th>\n",
       "      <th>issued</th>\n",
       "      <th>loanstatus</th>\n",
       "      <th>pymntplan</th>\n",
       "      <th>url</th>\n",
       "      <th>purpose</th>\n",
       "      <th>title</th>\n",
       "      <th>zipcode</th>\n",
       "      <th>addrstate</th>\n",
       "      <th>dti</th>\n",
       "      <th>delinq2yrs</th>\n",
       "      <th>earliestcrline</th>\n",
       "      <th>ficorangelow</th>\n",
       "      <th>ficorangehigh</th>\n",
       "      <th>inqlast6mths</th>\n",
       "      <th>openacc</th>\n",
       "      <th>pubrec</th>\n",
       "      <th>revolbal</th>\n",
       "      <th>revolutil</th>\n",
       "      <th>totalacc</th>\n",
       "      <th>initialliststatus</th>\n",
       "      <th>outprncp</th>\n",
       "      <th>outprncpinv</th>\n",
       "      <th>totalpymnt</th>\n",
       "      <th>totalpymntinv</th>\n",
       "      <th>totalrecprncp</th>\n",
       "      <th>totalrecint</th>\n",
       "      <th>totalreclatefee</th>\n",
       "      <th>recoveries</th>\n",
       "      <th>collectionrecoveryfee</th>\n",
       "      <th>lastpymntd</th>\n",
       "      <th>lastpymntamnt</th>\n",
       "      <th>lastcreditpulld</th>\n",
       "      <th>lastficorangehigh</th>\n",
       "      <th>lastficorangelow</th>\n",
       "      <th>collections12mthsexmed</th>\n",
       "      <th>policycode</th>\n",
       "      <th>applicationtype</th>\n",
       "      <th>accnowdelinq</th>\n",
       "      <th>totcollamt</th>\n",
       "      <th>totcurbal</th>\n",
       "      <th>totalrevhilim</th>\n",
       "      <th>accopenpast24mths</th>\n",
       "      <th>avgcurbal</th>\n",
       "      <th>bcopentobuy</th>\n",
       "      <th>bcutil</th>\n",
       "      <th>chargeoffwithin12mths</th>\n",
       "      <th>delinqamnt</th>\n",
       "      <th>mosinoldilacct</th>\n",
       "      <th>mosinoldrevtlop</th>\n",
       "      <th>mosinrcntrevtlop</th>\n",
       "      <th>mosinrcnttl</th>\n",
       "      <th>mortacc</th>\n",
       "      <th>mthssincerecentbc</th>\n",
       "      <th>numacctsever120pd</th>\n",
       "      <th>numactvbctl</th>\n",
       "      <th>numactvrevtl</th>\n",
       "      <th>numbcsats</th>\n",
       "      <th>numbctl</th>\n",
       "      <th>numiltl</th>\n",
       "      <th>numoprevtl</th>\n",
       "      <th>numrevaccts</th>\n",
       "      <th>numrevtlbalgt0</th>\n",
       "      <th>numsats</th>\n",
       "      <th>numtl120dpd2m</th>\n",
       "      <th>numtl30dpd</th>\n",
       "      <th>numtl90gdpd24m</th>\n",
       "      <th>numtloppast12m</th>\n",
       "      <th>pcttlnvrdlq</th>\n",
       "      <th>percentbcgt75</th>\n",
       "      <th>pubrecbankruptcies</th>\n",
       "      <th>taxliens</th>\n",
       "      <th>tothicredlim</th>\n",
       "      <th>totalbalexmort</th>\n",
       "      <th>totalbclimit</th>\n",
       "      <th>totalilhighcreditlimit</th>\n",
       "      <th>hardshipflag</th>\n",
       "      <th>debtsettlementflag</th>\n",
       "    </tr>\n",
       "  </thead>\n",
       "  <tbody>\n",
       "    <tr>\n",
       "      <th>0</th>\n",
       "      <td>68407277</td>\n",
       "      <td>3600.0</td>\n",
       "      <td>3600.0</td>\n",
       "      <td>3600.0</td>\n",
       "      <td>36 months</td>\n",
       "      <td>13.99</td>\n",
       "      <td>123.03</td>\n",
       "      <td>C</td>\n",
       "      <td>C4</td>\n",
       "      <td>leadman</td>\n",
       "      <td>10+ years</td>\n",
       "      <td>MORTGAGE</td>\n",
       "      <td>55000.0</td>\n",
       "      <td>Not Verified</td>\n",
       "      <td>Dec-2015</td>\n",
       "      <td>Fully Paid</td>\n",
       "      <td>n</td>\n",
       "      <td>https://lendingclub.com/browse/loanDetail.acti...</td>\n",
       "      <td>debt_consolidation</td>\n",
       "      <td>Debt consolidation</td>\n",
       "      <td>190xx</td>\n",
       "      <td>PA</td>\n",
       "      <td>5.91</td>\n",
       "      <td>0.0</td>\n",
       "      <td>Aug-2003</td>\n",
       "      <td>675.0</td>\n",
       "      <td>679.0</td>\n",
       "      <td>1.0</td>\n",
       "      <td>7.0</td>\n",
       "      <td>0.0</td>\n",
       "      <td>2765.0</td>\n",
       "      <td>29.7</td>\n",
       "      <td>13.0</td>\n",
       "      <td>w</td>\n",
       "      <td>0.0</td>\n",
       "      <td>0.0</td>\n",
       "      <td>4421.723917</td>\n",
       "      <td>4421.72</td>\n",
       "      <td>3600.0</td>\n",
       "      <td>821.72</td>\n",
       "      <td>0.0</td>\n",
       "      <td>0.0</td>\n",
       "      <td>0.0</td>\n",
       "      <td>Jan-2019</td>\n",
       "      <td>122.67</td>\n",
       "      <td>Mar-2019</td>\n",
       "      <td>564.0</td>\n",
       "      <td>560.0</td>\n",
       "      <td>0.0</td>\n",
       "      <td>1.0</td>\n",
       "      <td>Individual</td>\n",
       "      <td>0.0</td>\n",
       "      <td>722.0</td>\n",
       "      <td>144904.0</td>\n",
       "      <td>9300.0</td>\n",
       "      <td>4.0</td>\n",
       "      <td>20701.0</td>\n",
       "      <td>1506.0</td>\n",
       "      <td>37.2</td>\n",
       "      <td>0.0</td>\n",
       "      <td>0.0</td>\n",
       "      <td>148.0</td>\n",
       "      <td>128.0</td>\n",
       "      <td>3.0</td>\n",
       "      <td>3.0</td>\n",
       "      <td>1.0</td>\n",
       "      <td>4.0</td>\n",
       "      <td>2.0</td>\n",
       "      <td>2.0</td>\n",
       "      <td>4.0</td>\n",
       "      <td>2.0</td>\n",
       "      <td>5.0</td>\n",
       "      <td>3.0</td>\n",
       "      <td>4.0</td>\n",
       "      <td>9.0</td>\n",
       "      <td>4.0</td>\n",
       "      <td>7.0</td>\n",
       "      <td>0.0</td>\n",
       "      <td>0.0</td>\n",
       "      <td>0.0</td>\n",
       "      <td>3.0</td>\n",
       "      <td>76.9</td>\n",
       "      <td>0.0</td>\n",
       "      <td>0.0</td>\n",
       "      <td>0.0</td>\n",
       "      <td>178050.0</td>\n",
       "      <td>7746.0</td>\n",
       "      <td>2400.0</td>\n",
       "      <td>13734.0</td>\n",
       "      <td>N</td>\n",
       "      <td>N</td>\n",
       "    </tr>\n",
       "    <tr>\n",
       "      <th>1</th>\n",
       "      <td>68355089</td>\n",
       "      <td>24700.0</td>\n",
       "      <td>24700.0</td>\n",
       "      <td>24700.0</td>\n",
       "      <td>36 months</td>\n",
       "      <td>11.99</td>\n",
       "      <td>820.28</td>\n",
       "      <td>C</td>\n",
       "      <td>C1</td>\n",
       "      <td>Engineer</td>\n",
       "      <td>10+ years</td>\n",
       "      <td>MORTGAGE</td>\n",
       "      <td>65000.0</td>\n",
       "      <td>Not Verified</td>\n",
       "      <td>Dec-2015</td>\n",
       "      <td>Fully Paid</td>\n",
       "      <td>n</td>\n",
       "      <td>https://lendingclub.com/browse/loanDetail.acti...</td>\n",
       "      <td>small_business</td>\n",
       "      <td>Business</td>\n",
       "      <td>577xx</td>\n",
       "      <td>SD</td>\n",
       "      <td>16.06</td>\n",
       "      <td>1.0</td>\n",
       "      <td>Dec-1999</td>\n",
       "      <td>715.0</td>\n",
       "      <td>719.0</td>\n",
       "      <td>4.0</td>\n",
       "      <td>22.0</td>\n",
       "      <td>0.0</td>\n",
       "      <td>21470.0</td>\n",
       "      <td>19.2</td>\n",
       "      <td>38.0</td>\n",
       "      <td>w</td>\n",
       "      <td>0.0</td>\n",
       "      <td>0.0</td>\n",
       "      <td>25679.660000</td>\n",
       "      <td>25679.66</td>\n",
       "      <td>24700.0</td>\n",
       "      <td>979.66</td>\n",
       "      <td>0.0</td>\n",
       "      <td>0.0</td>\n",
       "      <td>0.0</td>\n",
       "      <td>Jun-2016</td>\n",
       "      <td>926.35</td>\n",
       "      <td>Mar-2019</td>\n",
       "      <td>699.0</td>\n",
       "      <td>695.0</td>\n",
       "      <td>0.0</td>\n",
       "      <td>1.0</td>\n",
       "      <td>Individual</td>\n",
       "      <td>0.0</td>\n",
       "      <td>0.0</td>\n",
       "      <td>204396.0</td>\n",
       "      <td>111800.0</td>\n",
       "      <td>4.0</td>\n",
       "      <td>9733.0</td>\n",
       "      <td>57830.0</td>\n",
       "      <td>27.1</td>\n",
       "      <td>0.0</td>\n",
       "      <td>0.0</td>\n",
       "      <td>113.0</td>\n",
       "      <td>192.0</td>\n",
       "      <td>2.0</td>\n",
       "      <td>2.0</td>\n",
       "      <td>4.0</td>\n",
       "      <td>2.0</td>\n",
       "      <td>0.0</td>\n",
       "      <td>5.0</td>\n",
       "      <td>5.0</td>\n",
       "      <td>13.0</td>\n",
       "      <td>17.0</td>\n",
       "      <td>6.0</td>\n",
       "      <td>20.0</td>\n",
       "      <td>27.0</td>\n",
       "      <td>5.0</td>\n",
       "      <td>22.0</td>\n",
       "      <td>0.0</td>\n",
       "      <td>0.0</td>\n",
       "      <td>0.0</td>\n",
       "      <td>2.0</td>\n",
       "      <td>97.4</td>\n",
       "      <td>7.7</td>\n",
       "      <td>0.0</td>\n",
       "      <td>0.0</td>\n",
       "      <td>314017.0</td>\n",
       "      <td>39475.0</td>\n",
       "      <td>79300.0</td>\n",
       "      <td>24667.0</td>\n",
       "      <td>N</td>\n",
       "      <td>N</td>\n",
       "    </tr>\n",
       "    <tr>\n",
       "      <th>2</th>\n",
       "      <td>68341763</td>\n",
       "      <td>20000.0</td>\n",
       "      <td>20000.0</td>\n",
       "      <td>20000.0</td>\n",
       "      <td>60 months</td>\n",
       "      <td>10.78</td>\n",
       "      <td>432.66</td>\n",
       "      <td>B</td>\n",
       "      <td>B4</td>\n",
       "      <td>truck driver</td>\n",
       "      <td>10+ years</td>\n",
       "      <td>MORTGAGE</td>\n",
       "      <td>63000.0</td>\n",
       "      <td>Not Verified</td>\n",
       "      <td>Dec-2015</td>\n",
       "      <td>Fully Paid</td>\n",
       "      <td>n</td>\n",
       "      <td>https://lendingclub.com/browse/loanDetail.acti...</td>\n",
       "      <td>home_improvement</td>\n",
       "      <td>NaN</td>\n",
       "      <td>605xx</td>\n",
       "      <td>IL</td>\n",
       "      <td>10.78</td>\n",
       "      <td>0.0</td>\n",
       "      <td>Aug-2000</td>\n",
       "      <td>695.0</td>\n",
       "      <td>699.0</td>\n",
       "      <td>0.0</td>\n",
       "      <td>6.0</td>\n",
       "      <td>0.0</td>\n",
       "      <td>7869.0</td>\n",
       "      <td>56.2</td>\n",
       "      <td>18.0</td>\n",
       "      <td>w</td>\n",
       "      <td>0.0</td>\n",
       "      <td>0.0</td>\n",
       "      <td>22705.924294</td>\n",
       "      <td>22705.92</td>\n",
       "      <td>20000.0</td>\n",
       "      <td>2705.92</td>\n",
       "      <td>0.0</td>\n",
       "      <td>0.0</td>\n",
       "      <td>0.0</td>\n",
       "      <td>Jun-2017</td>\n",
       "      <td>15813.30</td>\n",
       "      <td>Mar-2019</td>\n",
       "      <td>704.0</td>\n",
       "      <td>700.0</td>\n",
       "      <td>0.0</td>\n",
       "      <td>1.0</td>\n",
       "      <td>Joint App</td>\n",
       "      <td>0.0</td>\n",
       "      <td>0.0</td>\n",
       "      <td>189699.0</td>\n",
       "      <td>14000.0</td>\n",
       "      <td>6.0</td>\n",
       "      <td>31617.0</td>\n",
       "      <td>2737.0</td>\n",
       "      <td>55.9</td>\n",
       "      <td>0.0</td>\n",
       "      <td>0.0</td>\n",
       "      <td>125.0</td>\n",
       "      <td>184.0</td>\n",
       "      <td>14.0</td>\n",
       "      <td>14.0</td>\n",
       "      <td>5.0</td>\n",
       "      <td>101.0</td>\n",
       "      <td>0.0</td>\n",
       "      <td>2.0</td>\n",
       "      <td>3.0</td>\n",
       "      <td>2.0</td>\n",
       "      <td>4.0</td>\n",
       "      <td>6.0</td>\n",
       "      <td>4.0</td>\n",
       "      <td>7.0</td>\n",
       "      <td>3.0</td>\n",
       "      <td>6.0</td>\n",
       "      <td>0.0</td>\n",
       "      <td>0.0</td>\n",
       "      <td>0.0</td>\n",
       "      <td>0.0</td>\n",
       "      <td>100.0</td>\n",
       "      <td>50.0</td>\n",
       "      <td>0.0</td>\n",
       "      <td>0.0</td>\n",
       "      <td>218418.0</td>\n",
       "      <td>18696.0</td>\n",
       "      <td>6200.0</td>\n",
       "      <td>14877.0</td>\n",
       "      <td>N</td>\n",
       "      <td>N</td>\n",
       "    </tr>\n",
       "    <tr>\n",
       "      <th>4</th>\n",
       "      <td>68476807</td>\n",
       "      <td>10400.0</td>\n",
       "      <td>10400.0</td>\n",
       "      <td>10400.0</td>\n",
       "      <td>60 months</td>\n",
       "      <td>22.45</td>\n",
       "      <td>289.91</td>\n",
       "      <td>F</td>\n",
       "      <td>F1</td>\n",
       "      <td>Contract Specialist</td>\n",
       "      <td>3 years</td>\n",
       "      <td>MORTGAGE</td>\n",
       "      <td>104433.0</td>\n",
       "      <td>Source Verified</td>\n",
       "      <td>Dec-2015</td>\n",
       "      <td>Fully Paid</td>\n",
       "      <td>n</td>\n",
       "      <td>https://lendingclub.com/browse/loanDetail.acti...</td>\n",
       "      <td>major_purchase</td>\n",
       "      <td>Major purchase</td>\n",
       "      <td>174xx</td>\n",
       "      <td>PA</td>\n",
       "      <td>25.37</td>\n",
       "      <td>1.0</td>\n",
       "      <td>Jun-1998</td>\n",
       "      <td>695.0</td>\n",
       "      <td>699.0</td>\n",
       "      <td>3.0</td>\n",
       "      <td>12.0</td>\n",
       "      <td>0.0</td>\n",
       "      <td>21929.0</td>\n",
       "      <td>64.5</td>\n",
       "      <td>35.0</td>\n",
       "      <td>w</td>\n",
       "      <td>0.0</td>\n",
       "      <td>0.0</td>\n",
       "      <td>11740.500000</td>\n",
       "      <td>11740.50</td>\n",
       "      <td>10400.0</td>\n",
       "      <td>1340.50</td>\n",
       "      <td>0.0</td>\n",
       "      <td>0.0</td>\n",
       "      <td>0.0</td>\n",
       "      <td>Jul-2016</td>\n",
       "      <td>10128.96</td>\n",
       "      <td>Mar-2018</td>\n",
       "      <td>704.0</td>\n",
       "      <td>700.0</td>\n",
       "      <td>0.0</td>\n",
       "      <td>1.0</td>\n",
       "      <td>Individual</td>\n",
       "      <td>0.0</td>\n",
       "      <td>0.0</td>\n",
       "      <td>331730.0</td>\n",
       "      <td>34000.0</td>\n",
       "      <td>10.0</td>\n",
       "      <td>27644.0</td>\n",
       "      <td>4567.0</td>\n",
       "      <td>77.5</td>\n",
       "      <td>0.0</td>\n",
       "      <td>0.0</td>\n",
       "      <td>128.0</td>\n",
       "      <td>210.0</td>\n",
       "      <td>4.0</td>\n",
       "      <td>4.0</td>\n",
       "      <td>6.0</td>\n",
       "      <td>4.0</td>\n",
       "      <td>0.0</td>\n",
       "      <td>4.0</td>\n",
       "      <td>6.0</td>\n",
       "      <td>5.0</td>\n",
       "      <td>9.0</td>\n",
       "      <td>10.0</td>\n",
       "      <td>7.0</td>\n",
       "      <td>19.0</td>\n",
       "      <td>6.0</td>\n",
       "      <td>12.0</td>\n",
       "      <td>0.0</td>\n",
       "      <td>0.0</td>\n",
       "      <td>0.0</td>\n",
       "      <td>4.0</td>\n",
       "      <td>96.6</td>\n",
       "      <td>60.0</td>\n",
       "      <td>0.0</td>\n",
       "      <td>0.0</td>\n",
       "      <td>439570.0</td>\n",
       "      <td>95768.0</td>\n",
       "      <td>20300.0</td>\n",
       "      <td>88097.0</td>\n",
       "      <td>N</td>\n",
       "      <td>N</td>\n",
       "    </tr>\n",
       "    <tr>\n",
       "      <th>5</th>\n",
       "      <td>68426831</td>\n",
       "      <td>11950.0</td>\n",
       "      <td>11950.0</td>\n",
       "      <td>11950.0</td>\n",
       "      <td>36 months</td>\n",
       "      <td>13.44</td>\n",
       "      <td>405.18</td>\n",
       "      <td>C</td>\n",
       "      <td>C3</td>\n",
       "      <td>Veterinary Tecnician</td>\n",
       "      <td>4 years</td>\n",
       "      <td>RENT</td>\n",
       "      <td>34000.0</td>\n",
       "      <td>Source Verified</td>\n",
       "      <td>Dec-2015</td>\n",
       "      <td>Fully Paid</td>\n",
       "      <td>n</td>\n",
       "      <td>https://lendingclub.com/browse/loanDetail.acti...</td>\n",
       "      <td>debt_consolidation</td>\n",
       "      <td>Debt consolidation</td>\n",
       "      <td>300xx</td>\n",
       "      <td>GA</td>\n",
       "      <td>10.20</td>\n",
       "      <td>0.0</td>\n",
       "      <td>Oct-1987</td>\n",
       "      <td>690.0</td>\n",
       "      <td>694.0</td>\n",
       "      <td>0.0</td>\n",
       "      <td>5.0</td>\n",
       "      <td>0.0</td>\n",
       "      <td>8822.0</td>\n",
       "      <td>68.4</td>\n",
       "      <td>6.0</td>\n",
       "      <td>w</td>\n",
       "      <td>0.0</td>\n",
       "      <td>0.0</td>\n",
       "      <td>13708.948530</td>\n",
       "      <td>13708.95</td>\n",
       "      <td>11950.0</td>\n",
       "      <td>1758.95</td>\n",
       "      <td>0.0</td>\n",
       "      <td>0.0</td>\n",
       "      <td>0.0</td>\n",
       "      <td>May-2017</td>\n",
       "      <td>7653.56</td>\n",
       "      <td>May-2017</td>\n",
       "      <td>759.0</td>\n",
       "      <td>755.0</td>\n",
       "      <td>0.0</td>\n",
       "      <td>1.0</td>\n",
       "      <td>Individual</td>\n",
       "      <td>0.0</td>\n",
       "      <td>0.0</td>\n",
       "      <td>12798.0</td>\n",
       "      <td>12900.0</td>\n",
       "      <td>0.0</td>\n",
       "      <td>2560.0</td>\n",
       "      <td>844.0</td>\n",
       "      <td>91.0</td>\n",
       "      <td>0.0</td>\n",
       "      <td>0.0</td>\n",
       "      <td>338.0</td>\n",
       "      <td>54.0</td>\n",
       "      <td>32.0</td>\n",
       "      <td>32.0</td>\n",
       "      <td>0.0</td>\n",
       "      <td>36.0</td>\n",
       "      <td>0.0</td>\n",
       "      <td>2.0</td>\n",
       "      <td>3.0</td>\n",
       "      <td>2.0</td>\n",
       "      <td>2.0</td>\n",
       "      <td>2.0</td>\n",
       "      <td>4.0</td>\n",
       "      <td>4.0</td>\n",
       "      <td>3.0</td>\n",
       "      <td>5.0</td>\n",
       "      <td>0.0</td>\n",
       "      <td>0.0</td>\n",
       "      <td>0.0</td>\n",
       "      <td>0.0</td>\n",
       "      <td>100.0</td>\n",
       "      <td>100.0</td>\n",
       "      <td>0.0</td>\n",
       "      <td>0.0</td>\n",
       "      <td>16900.0</td>\n",
       "      <td>12798.0</td>\n",
       "      <td>9400.0</td>\n",
       "      <td>4000.0</td>\n",
       "      <td>N</td>\n",
       "      <td>N</td>\n",
       "    </tr>\n",
       "  </tbody>\n",
       "</table>\n",
       "</div>"
      ],
      "text/plain": [
       "         id  loanamnt  fundedamnt  fundedamntinv        term intrate  \\\n",
       "0  68407277    3600.0      3600.0         3600.0   36 months   13.99   \n",
       "1  68355089   24700.0     24700.0        24700.0   36 months   11.99   \n",
       "2  68341763   20000.0     20000.0        20000.0   60 months   10.78   \n",
       "4  68476807   10400.0     10400.0        10400.0   60 months   22.45   \n",
       "5  68426831   11950.0     11950.0        11950.0   36 months   13.44   \n",
       "\n",
       "   installment grade subgrade              emptitle  emplength homeownership  \\\n",
       "0       123.03     C       C4               leadman  10+ years      MORTGAGE   \n",
       "1       820.28     C       C1              Engineer  10+ years      MORTGAGE   \n",
       "2       432.66     B       B4          truck driver  10+ years      MORTGAGE   \n",
       "4       289.91     F       F1   Contract Specialist    3 years      MORTGAGE   \n",
       "5       405.18     C       C3  Veterinary Tecnician    4 years          RENT   \n",
       "\n",
       "   annualinc verificationstatus    issued  loanstatus pymntplan  \\\n",
       "0    55000.0       Not Verified  Dec-2015  Fully Paid         n   \n",
       "1    65000.0       Not Verified  Dec-2015  Fully Paid         n   \n",
       "2    63000.0       Not Verified  Dec-2015  Fully Paid         n   \n",
       "4   104433.0    Source Verified  Dec-2015  Fully Paid         n   \n",
       "5    34000.0    Source Verified  Dec-2015  Fully Paid         n   \n",
       "\n",
       "                                                 url             purpose  \\\n",
       "0  https://lendingclub.com/browse/loanDetail.acti...  debt_consolidation   \n",
       "1  https://lendingclub.com/browse/loanDetail.acti...      small_business   \n",
       "2  https://lendingclub.com/browse/loanDetail.acti...    home_improvement   \n",
       "4  https://lendingclub.com/browse/loanDetail.acti...      major_purchase   \n",
       "5  https://lendingclub.com/browse/loanDetail.acti...  debt_consolidation   \n",
       "\n",
       "                title zipcode addrstate    dti  delinq2yrs earliestcrline  \\\n",
       "0  Debt consolidation   190xx        PA   5.91         0.0       Aug-2003   \n",
       "1            Business   577xx        SD  16.06         1.0       Dec-1999   \n",
       "2                 NaN   605xx        IL  10.78         0.0       Aug-2000   \n",
       "4      Major purchase   174xx        PA  25.37         1.0       Jun-1998   \n",
       "5  Debt consolidation   300xx        GA  10.20         0.0       Oct-1987   \n",
       "\n",
       "   ficorangelow  ficorangehigh  inqlast6mths  openacc  pubrec  revolbal  \\\n",
       "0         675.0          679.0           1.0      7.0     0.0    2765.0   \n",
       "1         715.0          719.0           4.0     22.0     0.0   21470.0   \n",
       "2         695.0          699.0           0.0      6.0     0.0    7869.0   \n",
       "4         695.0          699.0           3.0     12.0     0.0   21929.0   \n",
       "5         690.0          694.0           0.0      5.0     0.0    8822.0   \n",
       "\n",
       "  revolutil  totalacc initialliststatus  outprncp  outprncpinv    totalpymnt  \\\n",
       "0      29.7      13.0                 w       0.0          0.0   4421.723917   \n",
       "1      19.2      38.0                 w       0.0          0.0  25679.660000   \n",
       "2      56.2      18.0                 w       0.0          0.0  22705.924294   \n",
       "4      64.5      35.0                 w       0.0          0.0  11740.500000   \n",
       "5      68.4       6.0                 w       0.0          0.0  13708.948530   \n",
       "\n",
       "   totalpymntinv  totalrecprncp  totalrecint  totalreclatefee  recoveries  \\\n",
       "0        4421.72         3600.0       821.72              0.0         0.0   \n",
       "1       25679.66        24700.0       979.66              0.0         0.0   \n",
       "2       22705.92        20000.0      2705.92              0.0         0.0   \n",
       "4       11740.50        10400.0      1340.50              0.0         0.0   \n",
       "5       13708.95        11950.0      1758.95              0.0         0.0   \n",
       "\n",
       "   collectionrecoveryfee lastpymntd  lastpymntamnt lastcreditpulld  \\\n",
       "0                    0.0   Jan-2019         122.67        Mar-2019   \n",
       "1                    0.0   Jun-2016         926.35        Mar-2019   \n",
       "2                    0.0   Jun-2017       15813.30        Mar-2019   \n",
       "4                    0.0   Jul-2016       10128.96        Mar-2018   \n",
       "5                    0.0   May-2017        7653.56        May-2017   \n",
       "\n",
       "   lastficorangehigh  lastficorangelow  collections12mthsexmed  policycode  \\\n",
       "0              564.0             560.0                     0.0         1.0   \n",
       "1              699.0             695.0                     0.0         1.0   \n",
       "2              704.0             700.0                     0.0         1.0   \n",
       "4              704.0             700.0                     0.0         1.0   \n",
       "5              759.0             755.0                     0.0         1.0   \n",
       "\n",
       "  applicationtype  accnowdelinq  totcollamt  totcurbal  totalrevhilim  \\\n",
       "0      Individual           0.0       722.0   144904.0         9300.0   \n",
       "1      Individual           0.0         0.0   204396.0       111800.0   \n",
       "2       Joint App           0.0         0.0   189699.0        14000.0   \n",
       "4      Individual           0.0         0.0   331730.0        34000.0   \n",
       "5      Individual           0.0         0.0    12798.0        12900.0   \n",
       "\n",
       "   accopenpast24mths  avgcurbal  bcopentobuy  bcutil  chargeoffwithin12mths  \\\n",
       "0                4.0    20701.0       1506.0    37.2                    0.0   \n",
       "1                4.0     9733.0      57830.0    27.1                    0.0   \n",
       "2                6.0    31617.0       2737.0    55.9                    0.0   \n",
       "4               10.0    27644.0       4567.0    77.5                    0.0   \n",
       "5                0.0     2560.0        844.0    91.0                    0.0   \n",
       "\n",
       "   delinqamnt  mosinoldilacct  mosinoldrevtlop  mosinrcntrevtlop  mosinrcnttl  \\\n",
       "0         0.0           148.0            128.0               3.0          3.0   \n",
       "1         0.0           113.0            192.0               2.0          2.0   \n",
       "2         0.0           125.0            184.0              14.0         14.0   \n",
       "4         0.0           128.0            210.0               4.0          4.0   \n",
       "5         0.0           338.0             54.0              32.0         32.0   \n",
       "\n",
       "   mortacc  mthssincerecentbc  numacctsever120pd  numactvbctl  numactvrevtl  \\\n",
       "0      1.0                4.0                2.0          2.0           4.0   \n",
       "1      4.0                2.0                0.0          5.0           5.0   \n",
       "2      5.0              101.0                0.0          2.0           3.0   \n",
       "4      6.0                4.0                0.0          4.0           6.0   \n",
       "5      0.0               36.0                0.0          2.0           3.0   \n",
       "\n",
       "   numbcsats  numbctl  numiltl  numoprevtl  numrevaccts  numrevtlbalgt0  \\\n",
       "0        2.0      5.0      3.0         4.0          9.0             4.0   \n",
       "1       13.0     17.0      6.0        20.0         27.0             5.0   \n",
       "2        2.0      4.0      6.0         4.0          7.0             3.0   \n",
       "4        5.0      9.0     10.0         7.0         19.0             6.0   \n",
       "5        2.0      2.0      2.0         4.0          4.0             3.0   \n",
       "\n",
       "   numsats  numtl120dpd2m  numtl30dpd  numtl90gdpd24m  numtloppast12m  \\\n",
       "0      7.0            0.0         0.0             0.0             3.0   \n",
       "1     22.0            0.0         0.0             0.0             2.0   \n",
       "2      6.0            0.0         0.0             0.0             0.0   \n",
       "4     12.0            0.0         0.0             0.0             4.0   \n",
       "5      5.0            0.0         0.0             0.0             0.0   \n",
       "\n",
       "   pcttlnvrdlq  percentbcgt75  pubrecbankruptcies  taxliens  tothicredlim  \\\n",
       "0         76.9            0.0                 0.0       0.0      178050.0   \n",
       "1         97.4            7.7                 0.0       0.0      314017.0   \n",
       "2        100.0           50.0                 0.0       0.0      218418.0   \n",
       "4         96.6           60.0                 0.0       0.0      439570.0   \n",
       "5        100.0          100.0                 0.0       0.0       16900.0   \n",
       "\n",
       "   totalbalexmort  totalbclimit  totalilhighcreditlimit hardshipflag  \\\n",
       "0          7746.0        2400.0                 13734.0            N   \n",
       "1         39475.0       79300.0                 24667.0            N   \n",
       "2         18696.0        6200.0                 14877.0            N   \n",
       "4         95768.0       20300.0                 88097.0            N   \n",
       "5         12798.0        9400.0                  4000.0            N   \n",
       "\n",
       "  debtsettlementflag  \n",
       "0                  N  \n",
       "1                  N  \n",
       "2                  N  \n",
       "4                  N  \n",
       "5                  N  "
      ]
     },
     "execution_count": 38,
     "metadata": {},
     "output_type": "execute_result"
    }
   ],
   "source": [
    "train_data.head()"
   ]
  },
  {
   "cell_type": "code",
   "execution_count": 39,
   "metadata": {},
   "outputs": [],
   "source": [
    "data_types = train_data.dtypes  \n",
    "cat_vars = list(data_types[data_types=='object'].index)\n",
    "num_vars = list(data_types[data_types=='int64'].index) + list(data_types[data_types=='float64'].index)"
   ]
  },
  {
   "cell_type": "code",
   "execution_count": 40,
   "metadata": {},
   "outputs": [
    {
     "name": "stdout",
     "output_type": "stream",
     "text": [
      "There are 25 categorical features. We will process them one by one.\n"
     ]
    }
   ],
   "source": [
    "print (\"There are %d categorical features. We will process them one by one.\" %len(cat_vars))"
   ]
  },
  {
   "cell_type": "code",
   "execution_count": 41,
   "metadata": {},
   "outputs": [
    {
     "name": "stdout",
     "output_type": "stream",
     "text": [
      "There are 66 numeric features. We will process them one by one.\n"
     ]
    }
   ],
   "source": [
    "print (\"There are %d numeric features. We will process them one by one.\" %len(num_vars))"
   ]
  },
  {
   "cell_type": "code",
   "execution_count": 42,
   "metadata": {},
   "outputs": [],
   "source": [
    "cat_vars_plot = ['applicationtype', 'verificationstatus', 'purpose', 'subgrade', 'initialliststatus', 'addrstate', 'grade', 'term',\\\n",
    "                'homeownership', 'emplength']"
   ]
  },
  {
   "cell_type": "code",
   "execution_count": 43,
   "metadata": {},
   "outputs": [
    {
     "data": {
      "image/png": "[encoded data removed]",
      "text/plain": [
       "<Figure size 720x216 with 2 Axes>"
      ]
     },
     "metadata": {
      "needs_background": "light"
     },
     "output_type": "display_data"
    },
    {
     "data": {
      "image/png": "[encoded data removed]",
      "text/plain": [
       "<Figure size 720x216 with 2 Axes>"
      ]
     },
     "metadata": {
      "needs_background": "light"
     },
     "output_type": "display_data"
    },
    {
     "data": {
      "image/png": "[encoded data removed]",
      "text/plain": [
       "<Figure size 720x216 with 2 Axes>"
      ]
     },
     "metadata": {
      "needs_background": "light"
     },
     "output_type": "display_data"
    },
    {
     "data": {
      "image/png": "[encoded data removed]",
      "text/plain": [
       "<Figure size 720x216 with 2 Axes>"
      ]
     },
     "metadata": {
      "needs_background": "light"
     },
     "output_type": "display_data"
    },
    {
     "data": {
      "image/png": "[encoded data removed]",
      "text/plain": [
       "<Figure size 720x216 with 2 Axes>"
      ]
     },
     "metadata": {
      "needs_background": "light"
     },
     "output_type": "display_data"
    }
   ],
   "source": [
    "n_cols = 2\n",
    "n_rows = 5\n",
    "for i in range(5):\n",
    "    fg,ax = plt.subplots(nrows=1,ncols=n_cols,figsize=(10, 3))\n",
    "    for j in range(2):\n",
    "        g = sns.countplot(x=cat_vars_plot[i*2+j], data=train_data, ax=ax[j])\n",
    "        g.set_xticklabels(labels=g.get_xticklabels(), rotation = 0)"
   ]
  },
  {
   "cell_type": "code",
   "execution_count": 44,
   "metadata": {},
   "outputs": [
    {
     "data": {
      "text/plain": [
       "['id',\n",
       " 'term',\n",
       " 'intrate',\n",
       " 'grade',\n",
       " 'subgrade',\n",
       " 'emptitle',\n",
       " 'emplength',\n",
       " 'homeownership',\n",
       " 'verificationstatus',\n",
       " 'issued',\n",
       " 'loanstatus',\n",
       " 'pymntplan',\n",
       " 'url',\n",
       " 'purpose',\n",
       " 'title',\n",
       " 'zipcode',\n",
       " 'addrstate',\n",
       " 'earliestcrline',\n",
       " 'revolutil',\n",
       " 'initialliststatus',\n",
       " 'lastpymntd',\n",
       " 'lastcreditpulld',\n",
       " 'applicationtype',\n",
       " 'hardshipflag',\n",
       " 'debtsettlementflag']"
      ]
     },
     "execution_count": 44,
     "metadata": {},
     "output_type": "execute_result"
    }
   ],
   "source": [
    "cat_vars"
   ]
  },
  {
   "cell_type": "markdown",
   "metadata": {},
   "source": [
    "Dropping more columns that are not insightful for model training"
   ]
  },
  {
   "cell_type": "code",
   "execution_count": 45,
   "metadata": {},
   "outputs": [],
   "source": [
    "train_drop_columns=['id','pymntplan','url','hardshipflag','debtsettlementflag','lastcreditpulld','lastpymntd']"
   ]
  },
  {
   "cell_type": "code",
   "execution_count": 46,
   "metadata": {},
   "outputs": [],
   "source": [
    "train_data.drop(train_drop_columns,axis=1,inplace=True)"
   ]
  },
  {
   "cell_type": "code",
   "execution_count": 47,
   "metadata": {},
   "outputs": [
    {
     "data": {
      "text/plain": [
       "(375545, 84)"
      ]
     },
     "execution_count": 47,
     "metadata": {},
     "output_type": "execute_result"
    }
   ],
   "source": [
    "train_data.shape"
   ]
  },
  {
   "cell_type": "code",
   "execution_count": 48,
   "metadata": {},
   "outputs": [],
   "source": [
    "test_data.drop(train_drop_columns,axis=1,inplace=True)"
   ]
  },
  {
   "cell_type": "code",
   "execution_count": 49,
   "metadata": {},
   "outputs": [
    {
     "data": {
      "text/plain": [
       "(434407, 84)"
      ]
     },
     "execution_count": 49,
     "metadata": {},
     "output_type": "execute_result"
    }
   ],
   "source": [
    "test_data.shape"
   ]
  },
  {
   "cell_type": "markdown",
   "metadata": {},
   "source": [
    "# Feature engineering"
   ]
  },
  {
   "cell_type": "markdown",
   "metadata": {},
   "source": [
    "Converting address state column into state frequency"
   ]
  },
  {
   "cell_type": "code",
   "execution_count": 50,
   "metadata": {},
   "outputs": [],
   "source": [
    "addrstate_freq = pd.DataFrame({'addrstate': train_data[\"addrstate\"].value_counts(normalize = True).index, \\\n",
    "                               'state_freq': train_data[\"addrstate\"].value_counts(normalize = True).values})"
   ]
  },
  {
   "cell_type": "code",
   "execution_count": 51,
   "metadata": {},
   "outputs": [],
   "source": [
    "train_data = pd.merge(train_data, addrstate_freq, how = 'left', on = 'addrstate')"
   ]
  },
  {
   "cell_type": "code",
   "execution_count": 52,
   "metadata": {},
   "outputs": [],
   "source": [
    "cat_vars.remove('addrstate')\n",
    "num_vars.append('state_freq')"
   ]
  },
  {
   "cell_type": "markdown",
   "metadata": {},
   "source": [
    "Converting zipcode column into zipcode frequency column"
   ]
  },
  {
   "cell_type": "code",
   "execution_count": 53,
   "metadata": {},
   "outputs": [],
   "source": [
    "train_data[\"zipcode\"] = train_data[\"zipcode\"].apply(lambda x: int(x.strip('xx')))"
   ]
  },
  {
   "cell_type": "code",
   "execution_count": 54,
   "metadata": {},
   "outputs": [],
   "source": [
    "zipcode_freq = pd.DataFrame({'zipcode': train_data[\"zipcode\"].value_counts(normalize = True).index, \\\n",
    "                               'zipcode_freq': train_data[\"zipcode\"].value_counts(normalize = True).values})"
   ]
  },
  {
   "cell_type": "code",
   "execution_count": 55,
   "metadata": {},
   "outputs": [],
   "source": [
    "train_data = pd.merge(train_data, zipcode_freq, how = 'left', on = 'zipcode')"
   ]
  },
  {
   "cell_type": "code",
   "execution_count": 56,
   "metadata": {},
   "outputs": [],
   "source": [
    "cat_vars.remove('zipcode')\n",
    "num_vars.append('zipcode')\n",
    "num_vars.append('zipcode_freq')"
   ]
  },
  {
   "cell_type": "code",
   "execution_count": 57,
   "metadata": {},
   "outputs": [
    {
     "data": {
      "text/plain": [
       "Individual    375144\n",
       "Joint App        401\n",
       "Name: applicationtype, dtype: int64"
      ]
     },
     "execution_count": 57,
     "metadata": {},
     "output_type": "execute_result"
    }
   ],
   "source": [
    "train_data[\"applicationtype\"].value_counts()"
   ]
  },
  {
   "cell_type": "code",
   "execution_count": 58,
   "metadata": {},
   "outputs": [
    {
     "data": {
      "text/plain": [
       "<matplotlib.axes._subplots.AxesSubplot at 0x1a3cbe44e0>"
      ]
     },
     "execution_count": 58,
     "metadata": {},
     "output_type": "execute_result"
    },
    {
     "data": {
      "image/png": "[encoded data removed]",
      "text/plain": [
       "<Figure size 432x288 with 1 Axes>"
      ]
     },
     "metadata": {
      "needs_background": "light"
     },
     "output_type": "display_data"
    }
   ],
   "source": [
    "sns.countplot(x=\"applicationtype\",hue=\"loanstatus\",data=train_data)"
   ]
  },
  {
   "cell_type": "code",
   "execution_count": 59,
   "metadata": {},
   "outputs": [],
   "source": [
    "train_data.drop(\"applicationtype\",inplace=True,axis=1)"
   ]
  },
  {
   "cell_type": "markdown",
   "metadata": {},
   "source": [
    "Converting earliestline to credit_hitory"
   ]
  },
  {
   "cell_type": "code",
   "execution_count": 60,
   "metadata": {},
   "outputs": [],
   "source": [
    "earliest_crl = train_data['earliestcrline'].apply(lambda x: dt.datetime.strptime(str(x), '%b-%Y'))"
   ]
  },
  {
   "cell_type": "code",
   "execution_count": 61,
   "metadata": {},
   "outputs": [],
   "source": [
    "train_data['credit_history'] = earliest_crl.apply(lambda x: (dt.date(2019, 1, 1) - x.date()).days)"
   ]
  },
  {
   "cell_type": "code",
   "execution_count": 62,
   "metadata": {},
   "outputs": [],
   "source": [
    "cat_vars.remove('earliestcrline')\n",
    "num_vars.append('credit_hist')"
   ]
  },
  {
   "cell_type": "markdown",
   "metadata": {},
   "source": [
    "Column emplength"
   ]
  },
  {
   "cell_type": "code",
   "execution_count": 63,
   "metadata": {},
   "outputs": [
    {
     "data": {
      "text/plain": [
       "10+ years    123990\n",
       "2 years       33758\n",
       "< 1 year      30938\n",
       "3 years       30031\n",
       "1 year        24885\n",
       "5 years       22344\n",
       "4 years       22034\n",
       "8 years       19257\n",
       "7 years       16423\n",
       "6 years       15000\n",
       "9 years       14827\n",
       "Name: emplength, dtype: int64"
      ]
     },
     "execution_count": 63,
     "metadata": {},
     "output_type": "execute_result"
    }
   ],
   "source": [
    "train_data[\"emplength\"].value_counts()"
   ]
  },
  {
   "cell_type": "code",
   "execution_count": 64,
   "metadata": {},
   "outputs": [
    {
     "data": {
      "text/plain": [
       "22058"
      ]
     },
     "execution_count": 64,
     "metadata": {},
     "output_type": "execute_result"
    }
   ],
   "source": [
    "train_data[\"emplength\"].isnull().sum()"
   ]
  },
  {
   "cell_type": "code",
   "execution_count": 65,
   "metadata": {},
   "outputs": [],
   "source": [
    "train_data['emplength'].replace('NaN', np.nan, inplace = True)"
   ]
  },
  {
   "cell_type": "code",
   "execution_count": 66,
   "metadata": {},
   "outputs": [],
   "source": [
    "train_data['emplength'].replace('< 1 year', '0', inplace = True)"
   ]
  },
  {
   "cell_type": "code",
   "execution_count": 67,
   "metadata": {},
   "outputs": [],
   "source": [
    "train_data['emplength'].replace('10+ years', '10', inplace = True)"
   ]
  },
  {
   "cell_type": "code",
   "execution_count": 68,
   "metadata": {},
   "outputs": [],
   "source": [
    "train_data['emplength'].replace(to_replace='[^0-9]+', value = '', inplace= True, regex= True)"
   ]
  },
  {
   "cell_type": "code",
   "execution_count": 69,
   "metadata": {},
   "outputs": [],
   "source": [
    "train_data['emplength']=train_data['emplength'][train_data['emplength'].notnull()].astype(int).apply(lambda x: x*12)"
   ]
  },
  {
   "cell_type": "code",
   "execution_count": 70,
   "metadata": {},
   "outputs": [
    {
     "data": {
      "text/plain": [
       "120.0    123990\n",
       "24.0      33758\n",
       "0.0       30938\n",
       "36.0      30031\n",
       "12.0      24885\n",
       "60.0      22344\n",
       "48.0      22034\n",
       "96.0      19257\n",
       "84.0      16423\n",
       "72.0      15000\n",
       "108.0     14827\n",
       "Name: emplength, dtype: int64"
      ]
     },
     "execution_count": 70,
     "metadata": {},
     "output_type": "execute_result"
    }
   ],
   "source": [
    "train_data[\"emplength\"].value_counts()"
   ]
  },
  {
   "cell_type": "code",
   "execution_count": 71,
   "metadata": {},
   "outputs": [],
   "source": [
    "train_data['emplength'].fillna(-500,inplace=True)"
   ]
  },
  {
   "cell_type": "code",
   "execution_count": 72,
   "metadata": {},
   "outputs": [],
   "source": [
    "cat_vars.remove('emplength')\n",
    "num_vars.append('emplength')"
   ]
  },
  {
   "cell_type": "markdown",
   "metadata": {},
   "source": [
    "Column emptitle: only few titles have significance on result"
   ]
  },
  {
   "cell_type": "code",
   "execution_count": 73,
   "metadata": {},
   "outputs": [
    {
     "data": {
      "text/plain": [
       "Teacher                          7010\n",
       "Manager                          6101\n",
       "Owner                            3416\n",
       "Registered Nurse                 2828\n",
       "RN                               2776\n",
       "                                 ... \n",
       "Psychiatric Care Manager            1\n",
       "Associate Dean of the College       1\n",
       "Desktop Admin                       1\n",
       "Caller                              1\n",
       "line mechanic 2                     1\n",
       "Name: emptitle, Length: 109810, dtype: int64"
      ]
     },
     "execution_count": 73,
     "metadata": {},
     "output_type": "execute_result"
    }
   ],
   "source": [
    "train_data[\"emptitle\"].value_counts()"
   ]
  },
  {
   "cell_type": "code",
   "execution_count": 74,
   "metadata": {},
   "outputs": [],
   "source": [
    "train_data['emptitle'] = train_data['emptitle'].astype('str').apply(lambda x: x.lower())"
   ]
  },
  {
   "cell_type": "code",
   "execution_count": 75,
   "metadata": {},
   "outputs": [],
   "source": [
    "train_data['emptitle'].replace('nan', np.nan, inplace = True)"
   ]
  },
  {
   "cell_type": "code",
   "execution_count": 76,
   "metadata": {},
   "outputs": [],
   "source": [
    "ishigherclass = train_data['emptitle'].str.contains('manager|president|officer|supervisor|director|excutive|owner')"
   ]
  },
  {
   "cell_type": "code",
   "execution_count": 77,
   "metadata": {},
   "outputs": [],
   "source": [
    "#ishigherclass.fillna(False, inplace= True)"
   ]
  },
  {
   "cell_type": "code",
   "execution_count": 78,
   "metadata": {},
   "outputs": [
    {
     "data": {
      "text/plain": [
       "False    249838\n",
       "True     103604\n",
       "Name: emptitle, dtype: int64"
      ]
     },
     "execution_count": 78,
     "metadata": {},
     "output_type": "execute_result"
    }
   ],
   "source": [
    "ishigherclass.value_counts()"
   ]
  },
  {
   "cell_type": "code",
   "execution_count": 79,
   "metadata": {},
   "outputs": [
    {
     "data": {
      "text/plain": [
       "22103"
      ]
     },
     "execution_count": 79,
     "metadata": {},
     "output_type": "execute_result"
    }
   ],
   "source": [
    "ishigherclass.isnull().sum()"
   ]
  },
  {
   "cell_type": "code",
   "execution_count": 80,
   "metadata": {},
   "outputs": [],
   "source": [
    "isnothigherclass = (ishigherclass == False)"
   ]
  },
  {
   "cell_type": "code",
   "execution_count": 81,
   "metadata": {},
   "outputs": [],
   "source": [
    "ishigherclass.fillna(False,inplace=True)"
   ]
  },
  {
   "cell_type": "code",
   "execution_count": 82,
   "metadata": {},
   "outputs": [
    {
     "name": "stderr",
     "output_type": "stream",
     "text": [
      "/Users/vishalduhan/anaconda3/lib/python3.7/site-packages/ipykernel_launcher.py:2: SettingWithCopyWarning: \n",
      "A value is trying to be set on a copy of a slice from a DataFrame\n",
      "\n",
      "See the caveats in the documentation: https://pandas.pydata.org/pandas-docs/stable/user_guide/indexing.html#returning-a-view-versus-a-copy\n",
      "  \n",
      "/Users/vishalduhan/anaconda3/lib/python3.7/site-packages/ipykernel_launcher.py:3: SettingWithCopyWarning: \n",
      "A value is trying to be set on a copy of a slice from a DataFrame\n",
      "\n",
      "See the caveats in the documentation: https://pandas.pydata.org/pandas-docs/stable/user_guide/indexing.html#returning-a-view-versus-a-copy\n",
      "  This is separate from the ipykernel package so we can avoid doing imports until\n"
     ]
    }
   ],
   "source": [
    "train_data['emptitle'].fillna(-500,inplace=True)\n",
    "train_data['emptitle'][isnothigherclass]=0\n",
    "train_data['emptitle'][ishigherclass]=1\n"
   ]
  },
  {
   "cell_type": "code",
   "execution_count": 83,
   "metadata": {},
   "outputs": [
    {
     "data": {
      "text/plain": [
       " 0      249838\n",
       " 1      103604\n",
       "-500     22103\n",
       "Name: emptitle, dtype: int64"
      ]
     },
     "execution_count": 83,
     "metadata": {},
     "output_type": "execute_result"
    }
   ],
   "source": [
    "train_data[\"emptitle\"].value_counts()"
   ]
  },
  {
   "cell_type": "code",
   "execution_count": 84,
   "metadata": {},
   "outputs": [],
   "source": [
    "cat_vars.remove('emptitle')"
   ]
  },
  {
   "cell_type": "markdown",
   "metadata": {},
   "source": [
    "Grade"
   ]
  },
  {
   "cell_type": "code",
   "execution_count": 85,
   "metadata": {},
   "outputs": [],
   "source": [
    "train_data['grade'] = train_data['grade'].replace({'A': 1, 'B': 2, 'C': 3, 'D': 4, 'E': 5, 'F': 6, 'G': 7})"
   ]
  },
  {
   "cell_type": "code",
   "execution_count": 86,
   "metadata": {},
   "outputs": [],
   "source": [
    "cat_vars.remove('grade')\n",
    "num_vars.append('grade')"
   ]
  },
  {
   "cell_type": "markdown",
   "metadata": {},
   "source": [
    "Homeownership: Creating dummy variables"
   ]
  },
  {
   "cell_type": "code",
   "execution_count": 87,
   "metadata": {},
   "outputs": [
    {
     "data": {
      "text/plain": [
       "MORTGAGE    182130\n",
       "RENT        152342\n",
       "OWN          41071\n",
       "ANY              2\n",
       "Name: homeownership, dtype: int64"
      ]
     },
     "execution_count": 87,
     "metadata": {},
     "output_type": "execute_result"
    }
   ],
   "source": [
    "train_data['homeownership'].value_counts()"
   ]
  },
  {
   "cell_type": "code",
   "execution_count": 88,
   "metadata": {},
   "outputs": [
    {
     "data": {
      "text/plain": [
       "<matplotlib.axes._subplots.AxesSubplot at 0x1a3c1b89b0>"
      ]
     },
     "execution_count": 88,
     "metadata": {},
     "output_type": "execute_result"
    },
    {
     "data": {
      "image/png": "[encoded data removed]",
      "text/plain": [
       "<Figure size 432x288 with 1 Axes>"
      ]
     },
     "metadata": {
      "needs_background": "light"
     },
     "output_type": "display_data"
    }
   ],
   "source": [
    "sns.countplot(x='homeownership',data=train_data,hue='loanstatus')"
   ]
  },
  {
   "cell_type": "code",
   "execution_count": 89,
   "metadata": {},
   "outputs": [],
   "source": [
    "train_data=pd.get_dummies(train_data,columns=[\"homeownership\"])"
   ]
  },
  {
   "cell_type": "code",
   "execution_count": 90,
   "metadata": {},
   "outputs": [],
   "source": [
    "cat_vars.remove('homeownership')"
   ]
  },
  {
   "cell_type": "code",
   "execution_count": 91,
   "metadata": {},
   "outputs": [
    {
     "data": {
      "text/plain": [
       "w    232558\n",
       "f    142987\n",
       "Name: initialliststatus, dtype: int64"
      ]
     },
     "execution_count": 91,
     "metadata": {},
     "output_type": "execute_result"
    }
   ],
   "source": [
    "train_data['initialliststatus'].value_counts()"
   ]
  },
  {
   "cell_type": "code",
   "execution_count": 92,
   "metadata": {},
   "outputs": [],
   "source": [
    "train_data['initialliststatus']=train_data['initialliststatus'].replace({'w':0,\"f\":1})"
   ]
  },
  {
   "cell_type": "code",
   "execution_count": 93,
   "metadata": {},
   "outputs": [],
   "source": [
    "cat_vars.remove('initialliststatus')\n",
    "num_vars.append('initialliststatus')"
   ]
  },
  {
   "cell_type": "code",
   "execution_count": 94,
   "metadata": {},
   "outputs": [],
   "source": [
    "cat_vars.remove('intrate')\n",
    "num_vars.append('intrate')"
   ]
  },
  {
   "cell_type": "markdown",
   "metadata": {},
   "source": [
    "Verification status: Creating dummy variables"
   ]
  },
  {
   "cell_type": "code",
   "execution_count": 95,
   "metadata": {},
   "outputs": [
    {
     "data": {
      "text/plain": [
       "Source Verified    163548\n",
       "Verified           110346\n",
       "Not Verified       101651\n",
       "Name: verificationstatus, dtype: int64"
      ]
     },
     "execution_count": 95,
     "metadata": {},
     "output_type": "execute_result"
    }
   ],
   "source": [
    "train_data[\"verificationstatus\"].value_counts()"
   ]
  },
  {
   "cell_type": "code",
   "execution_count": 96,
   "metadata": {},
   "outputs": [],
   "source": [
    "train_data[\"verificationstatus\"].replace(['Not Verified', 'Source Verified', 'Verified'], ['NOT_VERIFIED', 'SOURCE_VERIFIED', 'VERIFIED'],\\\n",
    "                          inplace= True)"
   ]
  },
  {
   "cell_type": "code",
   "execution_count": 97,
   "metadata": {},
   "outputs": [],
   "source": [
    "train_data=pd.get_dummies(train_data,columns=[\"verificationstatus\"])"
   ]
  },
  {
   "cell_type": "code",
   "execution_count": 98,
   "metadata": {},
   "outputs": [],
   "source": [
    "cat_vars.remove('verificationstatus')"
   ]
  },
  {
   "cell_type": "markdown",
   "metadata": {},
   "source": [
    "Purpose: creating dummy"
   ]
  },
  {
   "cell_type": "code",
   "execution_count": 99,
   "metadata": {},
   "outputs": [
    {
     "data": {
      "text/plain": [
       "debt_consolidation    222050\n",
       "credit_card            90092\n",
       "home_improvement       22707\n",
       "other                  17944\n",
       "major_purchase          6730\n",
       "medical                 3684\n",
       "car                     3203\n",
       "small_business          3081\n",
       "moving                  2313\n",
       "vacation                2191\n",
       "house                   1331\n",
       "renewable_energy         214\n",
       "wedding                    4\n",
       "educational                1\n",
       "Name: purpose, dtype: int64"
      ]
     },
     "execution_count": 99,
     "metadata": {},
     "output_type": "execute_result"
    }
   ],
   "source": [
    "train_data[\"purpose\"].value_counts()"
   ]
  },
  {
   "cell_type": "code",
   "execution_count": 100,
   "metadata": {},
   "outputs": [],
   "source": [
    "train_data=pd.get_dummies(train_data,columns=[\"purpose\"])"
   ]
  },
  {
   "cell_type": "code",
   "execution_count": 101,
   "metadata": {},
   "outputs": [],
   "source": [
    "cat_vars.remove('purpose')"
   ]
  },
  {
   "cell_type": "markdown",
   "metadata": {},
   "source": [
    "Subgrade: Replacing string to numeric"
   ]
  },
  {
   "cell_type": "code",
   "execution_count": 102,
   "metadata": {},
   "outputs": [],
   "source": [
    "temp3=train_data[\"subgrade\"].sort_values().unique()"
   ]
  },
  {
   "cell_type": "code",
   "execution_count": 103,
   "metadata": {},
   "outputs": [],
   "source": [
    "train_data[\"subgrade\"]=train_data[\"subgrade\"].replace({temp3[i]:i+1 for i in range(len(temp3))})"
   ]
  },
  {
   "cell_type": "code",
   "execution_count": 104,
   "metadata": {},
   "outputs": [],
   "source": [
    "cat_vars.remove('subgrade')\n",
    "num_vars.append('subgrade')"
   ]
  },
  {
   "cell_type": "markdown",
   "metadata": {},
   "source": [
    "Term converting string to numeric"
   ]
  },
  {
   "cell_type": "code",
   "execution_count": 105,
   "metadata": {},
   "outputs": [
    {
     "data": {
      "text/plain": [
       "array([' 36 months', ' 60 months'], dtype=object)"
      ]
     },
     "execution_count": 105,
     "metadata": {},
     "output_type": "execute_result"
    }
   ],
   "source": [
    "train_data[\"term\"].sort_values().unique()"
   ]
  },
  {
   "cell_type": "code",
   "execution_count": 106,
   "metadata": {},
   "outputs": [],
   "source": [
    "train_data[\"term\"]=train_data[\"term\"].map({' 36 months':36,' 60 months':60})"
   ]
  },
  {
   "cell_type": "code",
   "execution_count": 107,
   "metadata": {},
   "outputs": [
    {
     "data": {
      "text/plain": [
       "36    283026\n",
       "60     92519\n",
       "Name: term, dtype: int64"
      ]
     },
     "execution_count": 107,
     "metadata": {},
     "output_type": "execute_result"
    }
   ],
   "source": [
    "train_data[\"term\"].value_counts()"
   ]
  },
  {
   "cell_type": "code",
   "execution_count": 108,
   "metadata": {},
   "outputs": [],
   "source": [
    "cat_vars.remove('term')\n",
    "num_vars.append('term')"
   ]
  },
  {
   "cell_type": "markdown",
   "metadata": {},
   "source": [
    "Revolutil: filling null values"
   ]
  },
  {
   "cell_type": "code",
   "execution_count": 109,
   "metadata": {},
   "outputs": [
    {
     "data": {
      "text/plain": [
       "53.11258288024881"
      ]
     },
     "execution_count": 109,
     "metadata": {},
     "output_type": "execute_result"
    }
   ],
   "source": [
    "train_data['revolutil'].mean()"
   ]
  },
  {
   "cell_type": "code",
   "execution_count": 110,
   "metadata": {},
   "outputs": [],
   "source": [
    "train_data['revolutil'].fillna(train_data['revolutil'].mean(),inplace=True)"
   ]
  },
  {
   "cell_type": "code",
   "execution_count": 111,
   "metadata": {},
   "outputs": [
    {
     "data": {
      "text/plain": [
       "0"
      ]
     },
     "execution_count": 111,
     "metadata": {},
     "output_type": "execute_result"
    }
   ],
   "source": [
    "train_data['revolutil'].isnull().sum()"
   ]
  },
  {
   "cell_type": "markdown",
   "metadata": {},
   "source": [
    "loanstatus: converting string to numeric"
   ]
  },
  {
   "cell_type": "code",
   "execution_count": 112,
   "metadata": {},
   "outputs": [],
   "source": [
    "train_data['loanstatus']=train_data['loanstatus'].replace({'Fully Paid':0,\"Charged Off\":1})"
   ]
  },
  {
   "cell_type": "code",
   "execution_count": 113,
   "metadata": {},
   "outputs": [
    {
     "data": {
      "text/plain": [
       "(375545, 104)"
      ]
     },
     "execution_count": 113,
     "metadata": {},
     "output_type": "execute_result"
    }
   ],
   "source": [
    "train_data.shape"
   ]
  },
  {
   "cell_type": "markdown",
   "metadata": {},
   "source": [
    "dti: filling null values, cutting data to 5 bins"
   ]
  },
  {
   "cell_type": "code",
   "execution_count": 114,
   "metadata": {},
   "outputs": [
    {
     "data": {
      "text/plain": [
       "count    375543.000000\n",
       "mean         18.942635\n",
       "std           8.887976\n",
       "min           0.000000\n",
       "25%          12.390000\n",
       "50%          18.380000\n",
       "75%          25.100000\n",
       "max         999.000000\n",
       "Name: dti, dtype: float64"
      ]
     },
     "execution_count": 114,
     "metadata": {},
     "output_type": "execute_result"
    }
   ],
   "source": [
    "train_data['dti'].describe()"
   ]
  },
  {
   "cell_type": "code",
   "execution_count": 115,
   "metadata": {},
   "outputs": [],
   "source": [
    "train_data=train_data[train_data[\"dti\"].notnull()]"
   ]
  },
  {
   "cell_type": "code",
   "execution_count": 116,
   "metadata": {},
   "outputs": [
    {
     "data": {
      "text/plain": [
       "0"
      ]
     },
     "execution_count": 116,
     "metadata": {},
     "output_type": "execute_result"
    }
   ],
   "source": [
    "train_data.dti.isnull().sum()"
   ]
  },
  {
   "cell_type": "code",
   "execution_count": 117,
   "metadata": {},
   "outputs": [
    {
     "data": {
      "text/plain": [
       "18.942634505236946"
      ]
     },
     "execution_count": 117,
     "metadata": {},
     "output_type": "execute_result"
    }
   ],
   "source": [
    "train_data['dti'].mean()"
   ]
  },
  {
   "cell_type": "code",
   "execution_count": 118,
   "metadata": {},
   "outputs": [],
   "source": [
    "train_data['dti'].fillna(18.94,inplace=True)"
   ]
  },
  {
   "cell_type": "code",
   "execution_count": 119,
   "metadata": {},
   "outputs": [],
   "source": [
    "train_data['dti'] = pd.cut(train_data['dti'],bins=[-1.00, 8.00, 16.00, 24.00, \\\n",
    "                                                           32.00, max(train_data.dti)],labels=[\"a1\", \"a2\", \"a3\",'a4','a5'])"
   ]
  },
  {
   "cell_type": "code",
   "execution_count": 120,
   "metadata": {},
   "outputs": [
    {
     "data": {
      "text/plain": [
       "0"
      ]
     },
     "execution_count": 120,
     "metadata": {},
     "output_type": "execute_result"
    }
   ],
   "source": [
    "train_data[\"dti\"].isnull().sum()"
   ]
  },
  {
   "cell_type": "code",
   "execution_count": 121,
   "metadata": {},
   "outputs": [
    {
     "data": {
      "text/plain": [
       "<matplotlib.axes._subplots.AxesSubplot at 0x1a3bb3bf28>"
      ]
     },
     "execution_count": 121,
     "metadata": {},
     "output_type": "execute_result"
    },
    {
     "data": {
      "image/png": "[encoded data removed]",
      "text/plain": [
       "<Figure size 432x288 with 1 Axes>"
      ]
     },
     "metadata": {
      "needs_background": "light"
     },
     "output_type": "display_data"
    }
   ],
   "source": [
    "sns.barplot(x='dti', y= 'loanstatus', data = train_data)"
   ]
  },
  {
   "cell_type": "markdown",
   "metadata": {},
   "source": [
    "annualinc: cutting data to bins"
   ]
  },
  {
   "cell_type": "code",
   "execution_count": 122,
   "metadata": {},
   "outputs": [
    {
     "data": {
      "text/plain": [
       "count    3.755430e+05\n",
       "mean     7.626962e+04\n",
       "std      7.499088e+04\n",
       "min      1.200000e+03\n",
       "25%      4.500000e+04\n",
       "50%      6.500000e+04\n",
       "75%      9.000000e+04\n",
       "max      9.500000e+06\n",
       "Name: annualinc, dtype: float64"
      ]
     },
     "execution_count": 122,
     "metadata": {},
     "output_type": "execute_result"
    }
   ],
   "source": [
    "train_data.annualinc.describe()"
   ]
  },
  {
   "cell_type": "code",
   "execution_count": 123,
   "metadata": {},
   "outputs": [],
   "source": [
    "train_data['annualinc'] = pd.cut(train_data.annualinc, bins=[0, 25001, 50001, 75001, \\\n",
    "                                                           100001, 125001, 150001, \\\n",
    "                                                           175001, 200001, max(train_data.annualinc)+1],labels=[\"b1\", \"b2\", \"b3\",'b4','b5','b6','b7','b8','b9'])"
   ]
  },
  {
   "cell_type": "code",
   "execution_count": 124,
   "metadata": {},
   "outputs": [
    {
     "data": {
      "text/plain": [
       "<matplotlib.axes._subplots.AxesSubplot at 0x1a3e507128>"
      ]
     },
     "execution_count": 124,
     "metadata": {},
     "output_type": "execute_result"
    },
    {
     "data": {
      "image/png": "[encoded data removed]",
      "text/plain": [
       "<Figure size 432x288 with 1 Axes>"
      ]
     },
     "metadata": {
      "needs_background": "light"
     },
     "output_type": "display_data"
    }
   ],
   "source": [
    "sns.barplot(x='annualinc',y='loanstatus',data=train_data)"
   ]
  },
  {
   "cell_type": "markdown",
   "metadata": {},
   "source": [
    "interest rate: cutting data to bins"
   ]
  },
  {
   "cell_type": "code",
   "execution_count": 125,
   "metadata": {},
   "outputs": [
    {
     "data": {
      "text/plain": [
       "40563      5.32\n",
       "198881     5.32\n",
       "87476      5.32\n",
       "239119     5.32\n",
       "198889     5.32\n",
       "          ...  \n",
       "134238    28.99\n",
       "13650     28.99\n",
       "168667    28.99\n",
       "119134    28.99\n",
       "193721    28.99\n",
       "Name: intrate, Length: 375543, dtype: object"
      ]
     },
     "execution_count": 125,
     "metadata": {},
     "output_type": "execute_result"
    }
   ],
   "source": [
    "train_data.intrate.sort_values()"
   ]
  },
  {
   "cell_type": "code",
   "execution_count": 126,
   "metadata": {},
   "outputs": [],
   "source": [
    "train_data['intrate'] = pd.cut(train_data.intrate, bins=[min(train_data.intrate)-1, 8.01, 12.01, 16.01, \\\n",
    "                                                           20.01, 24.01, max(train_data.intrate)+1],labels=[\"c1\", \"c2\", \"c3\",'c4','c5','c6'])"
   ]
  },
  {
   "cell_type": "code",
   "execution_count": 127,
   "metadata": {},
   "outputs": [
    {
     "data": {
      "text/plain": [
       "<matplotlib.axes._subplots.AxesSubplot at 0x1a3fb5c588>"
      ]
     },
     "execution_count": 127,
     "metadata": {},
     "output_type": "execute_result"
    },
    {
     "data": {
      "image/png": "[encoded data removed]",
      "text/plain": [
       "<Figure size 432x288 with 1 Axes>"
      ]
     },
     "metadata": {
      "needs_background": "light"
     },
     "output_type": "display_data"
    }
   ],
   "source": [
    "sns.barplot(x='intrate',y='loanstatus',data=train_data)"
   ]
  },
  {
   "cell_type": "markdown",
   "metadata": {},
   "source": [
    "Bcutil: filling null values and cutting data to bins"
   ]
  },
  {
   "cell_type": "code",
   "execution_count": 128,
   "metadata": {},
   "outputs": [
    {
     "data": {
      "text/plain": [
       "count    371682.000000\n",
       "mean         61.540929\n",
       "std          27.719596\n",
       "min           0.000000\n",
       "25%          40.600000\n",
       "50%          64.900000\n",
       "75%          85.900000\n",
       "max         318.200000\n",
       "Name: bcutil, dtype: float64"
      ]
     },
     "execution_count": 128,
     "metadata": {},
     "output_type": "execute_result"
    }
   ],
   "source": [
    "train_data.bcutil.describe()"
   ]
  },
  {
   "cell_type": "code",
   "execution_count": 129,
   "metadata": {},
   "outputs": [
    {
     "data": {
      "text/plain": [
       "3861"
      ]
     },
     "execution_count": 129,
     "metadata": {},
     "output_type": "execute_result"
    }
   ],
   "source": [
    "train_data['bcutil'].isnull().sum()"
   ]
  },
  {
   "cell_type": "code",
   "execution_count": 130,
   "metadata": {},
   "outputs": [],
   "source": [
    "train_data[\"bcutil\"].fillna(64,inplace=True)"
   ]
  },
  {
   "cell_type": "code",
   "execution_count": 131,
   "metadata": {},
   "outputs": [],
   "source": [
    "train_data['bcutil'] = pd.cut(train_data.bcutil, bins=[min(train_data.bcutil)-1, 34.01, 64.01, 100.01, \\\n",
    "                                                           138.01, max(train_data.bcutil)+1],labels=[\"d1\", \"d2\", \"d3\",'d4','d5'])"
   ]
  },
  {
   "cell_type": "code",
   "execution_count": 132,
   "metadata": {},
   "outputs": [
    {
     "data": {
      "text/plain": [
       "0"
      ]
     },
     "execution_count": 132,
     "metadata": {},
     "output_type": "execute_result"
    }
   ],
   "source": [
    "train_data['bcutil'].isnull().sum()"
   ]
  },
  {
   "cell_type": "code",
   "execution_count": 133,
   "metadata": {},
   "outputs": [
    {
     "data": {
      "text/plain": [
       "<matplotlib.axes._subplots.AxesSubplot at 0x1a3bb58a58>"
      ]
     },
     "execution_count": 133,
     "metadata": {},
     "output_type": "execute_result"
    },
    {
     "data": {
      "image/png": "[encoded data removed]",
      "text/plain": [
       "<Figure size 432x288 with 1 Axes>"
      ]
     },
     "metadata": {
      "needs_background": "light"
     },
     "output_type": "display_data"
    }
   ],
   "source": [
    "sns.barplot(x='bcutil',y='loanstatus',data=train_data)"
   ]
  },
  {
   "cell_type": "code",
   "execution_count": 134,
   "metadata": {},
   "outputs": [
    {
     "data": {
      "text/plain": [
       "count    375543.000000\n",
       "mean       7364.229481\n",
       "std        2780.200745\n",
       "min        2252.000000\n",
       "25%        5448.000000\n",
       "50%        6788.000000\n",
       "75%        8797.000000\n",
       "max       27394.000000\n",
       "Name: credit_history, dtype: float64"
      ]
     },
     "execution_count": 134,
     "metadata": {},
     "output_type": "execute_result"
    }
   ],
   "source": [
    "train_data.credit_history.describe()"
   ]
  },
  {
   "cell_type": "code",
   "execution_count": 135,
   "metadata": {},
   "outputs": [
    {
     "data": {
      "text/plain": [
       "21795      2252\n",
       "4736       2252\n",
       "25229      2252\n",
       "11978      2252\n",
       "3385       2252\n",
       "          ...  \n",
       "300369    24990\n",
       "294847    24990\n",
       "179771    25202\n",
       "22589     25202\n",
       "366465    27394\n",
       "Name: credit_history, Length: 375543, dtype: int64"
      ]
     },
     "execution_count": 135,
     "metadata": {},
     "output_type": "execute_result"
    }
   ],
   "source": [
    "train_data.credit_history.sort_values()"
   ]
  },
  {
   "cell_type": "code",
   "execution_count": 136,
   "metadata": {},
   "outputs": [],
   "source": [
    "train_data['credit_history'] = pd.cut(train_data.credit_history, bins=[min(train_data.credit_history)-1, 5000, 8000, 12000, \\\n",
    "                                                            max(train_data.credit_history)+1],labels=[\"e1\", \"e2\", \"e3\",'e4'])"
   ]
  },
  {
   "cell_type": "code",
   "execution_count": 137,
   "metadata": {},
   "outputs": [
    {
     "data": {
      "text/plain": [
       "<matplotlib.axes._subplots.AxesSubplot at 0x1a352ec3c8>"
      ]
     },
     "execution_count": 137,
     "metadata": {},
     "output_type": "execute_result"
    },
    {
     "data": {
      "image/png": "[encoded data removed]",
      "text/plain": [
       "<Figure size 432x288 with 1 Axes>"
      ]
     },
     "metadata": {
      "needs_background": "light"
     },
     "output_type": "display_data"
    }
   ],
   "source": [
    "sns.barplot(x='credit_history',y='loanstatus',data=train_data)"
   ]
  },
  {
   "cell_type": "code",
   "execution_count": 138,
   "metadata": {},
   "outputs": [
    {
     "data": {
      "text/plain": [
       "(375543, 104)"
      ]
     },
     "execution_count": 138,
     "metadata": {},
     "output_type": "execute_result"
    }
   ],
   "source": [
    "train_data.shape"
   ]
  },
  {
   "cell_type": "code",
   "execution_count": 139,
   "metadata": {},
   "outputs": [],
   "source": [
    "train_data.drop(\"title\",axis=1,inplace=True)"
   ]
  },
  {
   "cell_type": "code",
   "execution_count": null,
   "metadata": {},
   "outputs": [],
   "source": []
  },
  {
   "cell_type": "markdown",
   "metadata": {},
   "source": [
    "# test data"
   ]
  },
  {
   "cell_type": "markdown",
   "metadata": {},
   "source": [
    "We are applying same transformation for test data that we did for train data."
   ]
  },
  {
   "cell_type": "code",
   "execution_count": 140,
   "metadata": {},
   "outputs": [],
   "source": [
    "test_data.drop(\"title\",axis=1,inplace=True)"
   ]
  },
  {
   "cell_type": "code",
   "execution_count": 141,
   "metadata": {},
   "outputs": [],
   "source": [
    "required_status=[\"Charged Off\",\"Fully Paid\"]\n",
    "test_data=test_data[test_data[\"loanstatus\"].isin(required_status)]"
   ]
  },
  {
   "cell_type": "code",
   "execution_count": 142,
   "metadata": {},
   "outputs": [],
   "source": [
    "addrstate_freq = pd.DataFrame({'addrstate': test_data[\"addrstate\"].value_counts(normalize = True).index, \\\n",
    "                               'state_freq': test_data[\"addrstate\"].value_counts(normalize = True).values})\n",
    "\n",
    "test_data = pd.merge(test_data, addrstate_freq, how = 'left', on = 'addrstate')"
   ]
  },
  {
   "cell_type": "code",
   "execution_count": 143,
   "metadata": {},
   "outputs": [],
   "source": [
    "test_data[\"zipcode\"] = test_data[\"zipcode\"].apply(lambda x: int(x.strip('xx')))\n",
    "\n",
    "zipcode_freq = pd.DataFrame({'zipcode': test_data[\"zipcode\"].value_counts(normalize = True).index, \\\n",
    "                               'zipcode_freq': test_data[\"zipcode\"].value_counts(normalize = True).values})\n",
    "\n",
    "test_data = pd.merge(test_data, zipcode_freq, how = 'left', on = 'zipcode')"
   ]
  },
  {
   "cell_type": "code",
   "execution_count": 144,
   "metadata": {},
   "outputs": [],
   "source": [
    "test_data.drop(\"applicationtype\",inplace=True,axis=1)\n",
    "\n",
    "earliest_crl = test_data['earliestcrline'].apply(lambda x: dt.datetime.strptime(str(x), '%b-%Y'))\n",
    "\n",
    "test_data['credit_history'] = earliest_crl.apply(lambda x: (dt.date(2019, 1, 1) - x.date()).days)"
   ]
  },
  {
   "cell_type": "code",
   "execution_count": 145,
   "metadata": {},
   "outputs": [],
   "source": [
    "test_data['emplength'].replace('NaN', np.nan, inplace = True)\n",
    "\n",
    "test_data['emplength'].replace('< 1 year', '0', inplace = True)\n",
    "\n",
    "test_data['emplength'].replace('10+ years', '10', inplace = True)\n",
    "\n",
    "test_data['emplength'].replace(to_replace='[^0-9]+', value = '', inplace= True, regex= True)\n",
    "\n",
    "test_data['emplength']=test_data['emplength'][test_data['emplength'].notnull()].astype(int).apply(lambda x: x*12)"
   ]
  },
  {
   "cell_type": "code",
   "execution_count": 146,
   "metadata": {},
   "outputs": [],
   "source": [
    "test_data['emplength'].fillna(-500,inplace=True)"
   ]
  },
  {
   "cell_type": "code",
   "execution_count": 147,
   "metadata": {},
   "outputs": [
    {
     "name": "stderr",
     "output_type": "stream",
     "text": [
      "/Users/vishalduhan/anaconda3/lib/python3.7/site-packages/ipykernel_launcher.py:20: SettingWithCopyWarning: \n",
      "A value is trying to be set on a copy of a slice from a DataFrame\n",
      "\n",
      "See the caveats in the documentation: https://pandas.pydata.org/pandas-docs/stable/user_guide/indexing.html#returning-a-view-versus-a-copy\n",
      "/Users/vishalduhan/anaconda3/lib/python3.7/site-packages/ipykernel_launcher.py:21: SettingWithCopyWarning: \n",
      "A value is trying to be set on a copy of a slice from a DataFrame\n",
      "\n",
      "See the caveats in the documentation: https://pandas.pydata.org/pandas-docs/stable/user_guide/indexing.html#returning-a-view-versus-a-copy\n"
     ]
    }
   ],
   "source": [
    "test_data['emptitle'] = test_data['emptitle'].astype('str').apply(lambda x: x.lower())\n",
    "\n",
    "test_data['emptitle'].replace('nan', np.nan, inplace = True)\n",
    "\n",
    "\n",
    "\n",
    "ishigherclass = test_data['emptitle'].str.contains('manager|president|officer|supervisor|director|excutive|owner')\n",
    "\n",
    "#ishigherclass.fillna(False, inplace= True)\n",
    "\n",
    "ishigherclass.value_counts()\n",
    "\n",
    "ishigherclass.isnull().sum()\n",
    "\n",
    "isnothigherclass = (ishigherclass == False)\n",
    "\n",
    "ishigherclass.fillna(False,inplace=True)\n",
    "\n",
    "test_data['emptitle'].fillna(-500,inplace=True)\n",
    "test_data['emptitle'][isnothigherclass]=0\n",
    "test_data['emptitle'][ishigherclass]=1\n"
   ]
  },
  {
   "cell_type": "code",
   "execution_count": 148,
   "metadata": {},
   "outputs": [],
   "source": [
    "test_data['grade'] = test_data['grade'].replace({'A': 1, 'B': 2, 'C': 3, 'D': 4, 'E': 5, 'F': 6, 'G': 7})"
   ]
  },
  {
   "cell_type": "code",
   "execution_count": 149,
   "metadata": {},
   "outputs": [
    {
     "data": {
      "text/plain": [
       "MORTGAGE    142800\n",
       "RENT        114602\n",
       "OWN          35630\n",
       "ANY             63\n",
       "Name: homeownership, dtype: int64"
      ]
     },
     "execution_count": 149,
     "metadata": {},
     "output_type": "execute_result"
    }
   ],
   "source": [
    "test_data[\"homeownership\"].value_counts()"
   ]
  },
  {
   "cell_type": "code",
   "execution_count": 150,
   "metadata": {},
   "outputs": [],
   "source": [
    "test_data=pd.get_dummies(test_data,columns=[\"homeownership\"])"
   ]
  },
  {
   "cell_type": "code",
   "execution_count": 151,
   "metadata": {},
   "outputs": [],
   "source": [
    "test_data['initialliststatus']=test_data['initialliststatus'].replace({'w':0,\"f\":1})"
   ]
  },
  {
   "cell_type": "code",
   "execution_count": 152,
   "metadata": {},
   "outputs": [],
   "source": [
    "test_data[\"verificationstatus\"].replace(['Not Verified', 'Source Verified', 'Verified'], ['NOT_VERIFIED', 'SOURCE_VERIFIED', 'VERIFIED'],\\\n",
    "                          inplace= True)\n",
    "\n",
    "test_data=pd.get_dummies(test_data,columns=[\"verificationstatus\"])"
   ]
  },
  {
   "cell_type": "code",
   "execution_count": 153,
   "metadata": {},
   "outputs": [],
   "source": [
    "test_data=pd.get_dummies(test_data,columns=[\"purpose\"])"
   ]
  },
  {
   "cell_type": "code",
   "execution_count": 154,
   "metadata": {},
   "outputs": [],
   "source": [
    "temp3=test_data[\"subgrade\"].sort_values().unique()\n",
    "\n",
    "test_data[\"subgrade\"]=test_data[\"subgrade\"].replace({temp3[i]:i+1 for i in range(len(temp3))})"
   ]
  },
  {
   "cell_type": "code",
   "execution_count": 155,
   "metadata": {},
   "outputs": [],
   "source": [
    "test_data[\"term\"]=test_data[\"term\"].map({' 36 months':36,' 60 months':60})"
   ]
  },
  {
   "cell_type": "code",
   "execution_count": 156,
   "metadata": {},
   "outputs": [],
   "source": [
    "test_data['revolutil'].fillna(50,inplace=True)"
   ]
  },
  {
   "cell_type": "code",
   "execution_count": 157,
   "metadata": {},
   "outputs": [],
   "source": [
    "\n",
    "\n",
    "test_data['loanstatus']=test_data['loanstatus'].replace({'Fully Paid':0,\"Charged Off\":1})"
   ]
  },
  {
   "cell_type": "code",
   "execution_count": 158,
   "metadata": {},
   "outputs": [
    {
     "data": {
      "text/plain": [
       "count    293057.000000\n",
       "mean         18.793805\n",
       "std          10.608179\n",
       "min          -1.000000\n",
       "25%          12.180000\n",
       "50%          18.130000\n",
       "75%          24.820000\n",
       "max         999.000000\n",
       "Name: dti, dtype: float64"
      ]
     },
     "execution_count": 158,
     "metadata": {},
     "output_type": "execute_result"
    }
   ],
   "source": [
    "test_data['dti'].describe()"
   ]
  },
  {
   "cell_type": "code",
   "execution_count": 159,
   "metadata": {},
   "outputs": [
    {
     "data": {
      "text/plain": [
       "38"
      ]
     },
     "execution_count": 159,
     "metadata": {},
     "output_type": "execute_result"
    }
   ],
   "source": [
    "test_data['dti'].isnull().sum()"
   ]
  },
  {
   "cell_type": "code",
   "execution_count": 160,
   "metadata": {},
   "outputs": [],
   "source": [
    "test_data[\"dti\"].fillna(18.79,inplace=True)"
   ]
  },
  {
   "cell_type": "code",
   "execution_count": 161,
   "metadata": {},
   "outputs": [],
   "source": [
    "test_data['dti'].fillna(test_data['dti'].mean(),inplace=True)\n",
    "\n",
    "test_data['dti'] = pd.cut(test_data['dti'],bins=[min(test_data.dti)-1, 8.01, 16.01, 24.01, \\\n",
    "                                                           32.01, max(test_data.dti)+1],labels=[\"a1\", \"a2\", \"a3\",'a4','a5'])"
   ]
  },
  {
   "cell_type": "code",
   "execution_count": 162,
   "metadata": {},
   "outputs": [
    {
     "data": {
      "text/plain": [
       "0"
      ]
     },
     "execution_count": 162,
     "metadata": {},
     "output_type": "execute_result"
    }
   ],
   "source": [
    "test_data['dti'].isnull().sum()"
   ]
  },
  {
   "cell_type": "code",
   "execution_count": 163,
   "metadata": {},
   "outputs": [
    {
     "data": {
      "text/plain": [
       "count    2.930950e+05\n",
       "mean     7.877739e+04\n",
       "std      7.762752e+04\n",
       "min      0.000000e+00\n",
       "25%      4.800000e+04\n",
       "50%      6.600000e+04\n",
       "75%      9.400000e+04\n",
       "max      9.550000e+06\n",
       "Name: annualinc, dtype: float64"
      ]
     },
     "execution_count": 163,
     "metadata": {},
     "output_type": "execute_result"
    }
   ],
   "source": [
    "test_data.annualinc.describe()"
   ]
  },
  {
   "cell_type": "code",
   "execution_count": 164,
   "metadata": {},
   "outputs": [
    {
     "data": {
      "text/plain": [
       "0"
      ]
     },
     "execution_count": 164,
     "metadata": {},
     "output_type": "execute_result"
    }
   ],
   "source": [
    "test_data.annualinc.isnull().sum()"
   ]
  },
  {
   "cell_type": "code",
   "execution_count": 165,
   "metadata": {},
   "outputs": [],
   "source": [
    "test_data['annualinc'] = pd.cut(test_data.annualinc, bins=[-1, 25001, 50001, 75001, \\\n",
    "                                                           100001, 125001, 150001, \\\n",
    "                                                           175001, 200001, max(test_data.annualinc)+1],labels=[\"b1\", \"b2\", \"b3\",'b4','b5','b6','b7','b8','b9'])"
   ]
  },
  {
   "cell_type": "code",
   "execution_count": 166,
   "metadata": {},
   "outputs": [
    {
     "data": {
      "text/plain": [
       "0"
      ]
     },
     "execution_count": 166,
     "metadata": {},
     "output_type": "execute_result"
    }
   ],
   "source": [
    "test_data.annualinc.isnull().sum()"
   ]
  },
  {
   "cell_type": "code",
   "execution_count": 167,
   "metadata": {},
   "outputs": [],
   "source": [
    "test_data.intrate=test_data.intrate.astype(float)"
   ]
  },
  {
   "cell_type": "code",
   "execution_count": 168,
   "metadata": {},
   "outputs": [
    {
     "data": {
      "text/plain": [
       "count    293095.000000\n",
       "mean         13.086578\n",
       "std           5.041227\n",
       "min           5.320000\n",
       "25%           9.170000\n",
       "50%          11.990000\n",
       "75%          15.590000\n",
       "max          30.990000\n",
       "Name: intrate, dtype: float64"
      ]
     },
     "execution_count": 168,
     "metadata": {},
     "output_type": "execute_result"
    }
   ],
   "source": [
    "test_data.intrate.describe()"
   ]
  },
  {
   "cell_type": "code",
   "execution_count": 169,
   "metadata": {},
   "outputs": [
    {
     "data": {
      "text/plain": [
       "0"
      ]
     },
     "execution_count": 169,
     "metadata": {},
     "output_type": "execute_result"
    }
   ],
   "source": [
    "test_data.intrate.isnull().sum()"
   ]
  },
  {
   "cell_type": "code",
   "execution_count": 170,
   "metadata": {},
   "outputs": [],
   "source": [
    "test_data['intrate'] = pd.cut(test_data.intrate, bins=[min(test_data.intrate)-1, 8.01, 12.01, 16.01, \\\n",
    "                                                           20.01, 24.01, max(test_data.intrate)+1],labels=[\"c1\", \"c2\", \"c3\",'c4','c5','c6'])"
   ]
  },
  {
   "cell_type": "code",
   "execution_count": 171,
   "metadata": {},
   "outputs": [
    {
     "data": {
      "text/plain": [
       "0"
      ]
     },
     "execution_count": 171,
     "metadata": {},
     "output_type": "execute_result"
    }
   ],
   "source": [
    "test_data.intrate.isnull().sum()"
   ]
  },
  {
   "cell_type": "code",
   "execution_count": 172,
   "metadata": {},
   "outputs": [
    {
     "data": {
      "text/plain": [
       "count    289735.000000\n",
       "mean         57.360476\n",
       "std          28.429214\n",
       "min           0.000000\n",
       "25%          35.100000\n",
       "50%          59.100000\n",
       "75%          82.300000\n",
       "max         201.900000\n",
       "Name: bcutil, dtype: float64"
      ]
     },
     "execution_count": 172,
     "metadata": {},
     "output_type": "execute_result"
    }
   ],
   "source": [
    "test_data.bcutil.describe()"
   ]
  },
  {
   "cell_type": "code",
   "execution_count": 173,
   "metadata": {},
   "outputs": [
    {
     "data": {
      "text/plain": [
       "3360"
      ]
     },
     "execution_count": 173,
     "metadata": {},
     "output_type": "execute_result"
    }
   ],
   "source": [
    "test_data.bcutil.isnull().sum()"
   ]
  },
  {
   "cell_type": "code",
   "execution_count": 174,
   "metadata": {},
   "outputs": [],
   "source": [
    "test_data.bcutil.fillna(57.3,inplace=True)"
   ]
  },
  {
   "cell_type": "code",
   "execution_count": 175,
   "metadata": {},
   "outputs": [
    {
     "data": {
      "text/plain": [
       "0"
      ]
     },
     "execution_count": 175,
     "metadata": {},
     "output_type": "execute_result"
    }
   ],
   "source": [
    "test_data.bcutil.isnull().sum()"
   ]
  },
  {
   "cell_type": "code",
   "execution_count": 176,
   "metadata": {},
   "outputs": [],
   "source": [
    "test_data['bcutil'] = pd.cut(test_data.bcutil, bins=[min(test_data.bcutil)-1, 35.01, 70.01, 105.01, \\\n",
    "                                                           140.01, max(test_data.bcutil)+1],labels=[\"d1\", \"d2\", \"d3\",'d4','d5'])"
   ]
  },
  {
   "cell_type": "code",
   "execution_count": 177,
   "metadata": {},
   "outputs": [
    {
     "data": {
      "text/plain": [
       "0"
      ]
     },
     "execution_count": 177,
     "metadata": {},
     "output_type": "execute_result"
    }
   ],
   "source": [
    "test_data.bcutil.isnull().sum()"
   ]
  },
  {
   "cell_type": "code",
   "execution_count": 178,
   "metadata": {},
   "outputs": [
    {
     "data": {
      "text/plain": [
       "0"
      ]
     },
     "execution_count": 178,
     "metadata": {},
     "output_type": "execute_result"
    }
   ],
   "source": [
    "test_data.credit_history.isnull().sum()"
   ]
  },
  {
   "cell_type": "code",
   "execution_count": 179,
   "metadata": {},
   "outputs": [],
   "source": [
    "test_data['credit_history'] = pd.cut(test_data.credit_history, bins=[min(test_data.credit_history)-1, 5000, 8000, 12000, \\\n",
    "                                                            max(test_data.credit_history)+1],labels=[\"e1\", \"e2\", \"e3\",'e4'])"
   ]
  },
  {
   "cell_type": "code",
   "execution_count": 180,
   "metadata": {},
   "outputs": [
    {
     "data": {
      "text/plain": [
       "(293095, 102)"
      ]
     },
     "execution_count": 180,
     "metadata": {},
     "output_type": "execute_result"
    }
   ],
   "source": [
    "test_data.shape"
   ]
  },
  {
   "cell_type": "code",
   "execution_count": 181,
   "metadata": {},
   "outputs": [],
   "source": [
    "test_data=test_data[test_data['inqlast6mths'].notnull()]"
   ]
  },
  {
   "cell_type": "code",
   "execution_count": 182,
   "metadata": {},
   "outputs": [],
   "source": [
    "test_data[\"purpose_educational\"]=0"
   ]
  },
  {
   "cell_type": "code",
   "execution_count": 183,
   "metadata": {},
   "outputs": [],
   "source": [
    "train_data=train_data[train_data['numrevaccts'].notnull()]"
   ]
  },
  {
   "cell_type": "code",
   "execution_count": 184,
   "metadata": {},
   "outputs": [],
   "source": [
    "listdrop=[\"percentbcgt75\",\"numtl120dpd2m\",\"mthssincerecentbc\",\"mosinoldilacct\",\"bcopentobuy\"]"
   ]
  },
  {
   "cell_type": "code",
   "execution_count": 185,
   "metadata": {},
   "outputs": [],
   "source": [
    "train_data.drop(listdrop,axis=1,inplace=True)"
   ]
  },
  {
   "cell_type": "code",
   "execution_count": 186,
   "metadata": {},
   "outputs": [],
   "source": [
    "test_data.drop(listdrop,axis=1,inplace=True)"
   ]
  },
  {
   "cell_type": "code",
   "execution_count": 187,
   "metadata": {},
   "outputs": [],
   "source": [
    "train_data_y=train_data[[\"loanstatus\"]]"
   ]
  },
  {
   "cell_type": "code",
   "execution_count": 188,
   "metadata": {},
   "outputs": [],
   "source": [
    "test_data_y=test_data[[\"loanstatus\"]]"
   ]
  },
  {
   "cell_type": "code",
   "execution_count": 189,
   "metadata": {},
   "outputs": [],
   "source": [
    "train_data.drop([\"loanstatus\",\"issued\",\"earliestcrline\",\"addrstate\"],axis=1,inplace=True)"
   ]
  },
  {
   "cell_type": "code",
   "execution_count": 190,
   "metadata": {},
   "outputs": [],
   "source": [
    "test_data.drop([\"loanstatus\",\"issued\",\"earliestcrline\",\"addrstate\"],axis=1,inplace=True)"
   ]
  },
  {
   "cell_type": "code",
   "execution_count": 191,
   "metadata": {},
   "outputs": [],
   "source": [
    "train_data=pd.get_dummies(train_data,columns=[\"intrate\",'annualinc','dti','bcutil','credit_history'])"
   ]
  },
  {
   "cell_type": "code",
   "execution_count": 192,
   "metadata": {},
   "outputs": [],
   "source": [
    "test_data=pd.get_dummies(test_data,columns=[\"intrate\",'annualinc','dti','bcutil','credit_history'])"
   ]
  },
  {
   "cell_type": "code",
   "execution_count": 193,
   "metadata": {},
   "outputs": [
    {
     "data": {
      "text/plain": [
       "(375542, 118)"
      ]
     },
     "execution_count": 193,
     "metadata": {},
     "output_type": "execute_result"
    }
   ],
   "source": [
    "train_data.shape"
   ]
  },
  {
   "cell_type": "code",
   "execution_count": 194,
   "metadata": {},
   "outputs": [
    {
     "data": {
      "text/plain": [
       "(293094, 118)"
      ]
     },
     "execution_count": 194,
     "metadata": {},
     "output_type": "execute_result"
    }
   ],
   "source": [
    "test_data.shape"
   ]
  },
  {
   "cell_type": "code",
   "execution_count": 195,
   "metadata": {},
   "outputs": [
    {
     "data": {
      "text/plain": [
       "loanamnt                              0\n",
       "fundedamnt                            0\n",
       "fundedamntinv                         0\n",
       "term                                  0\n",
       "installment                           0\n",
       "grade                                 0\n",
       "subgrade                              0\n",
       "emptitle                              0\n",
       "emplength                             0\n",
       "zipcode                               0\n",
       "delinq2yrs                            0\n",
       "ficorangelow                          0\n",
       "ficorangehigh                         0\n",
       "inqlast6mths                          0\n",
       "openacc                               0\n",
       "pubrec                                0\n",
       "revolbal                              0\n",
       "revolutil                             0\n",
       "totalacc                              0\n",
       "initialliststatus                     0\n",
       "outprncp                              0\n",
       "outprncpinv                           0\n",
       "totalpymnt                            0\n",
       "totalpymntinv                         0\n",
       "totalrecprncp                         0\n",
       "totalrecint                           0\n",
       "totalreclatefee                       0\n",
       "recoveries                            0\n",
       "collectionrecoveryfee                 0\n",
       "lastpymntamnt                         0\n",
       "lastficorangehigh                     0\n",
       "lastficorangelow                      0\n",
       "collections12mthsexmed                0\n",
       "policycode                            0\n",
       "accnowdelinq                          0\n",
       "totcollamt                            0\n",
       "totcurbal                             0\n",
       "totalrevhilim                         0\n",
       "accopenpast24mths                     0\n",
       "avgcurbal                             0\n",
       "chargeoffwithin12mths                 0\n",
       "delinqamnt                            0\n",
       "mosinoldrevtlop                       0\n",
       "mosinrcntrevtlop                      0\n",
       "mosinrcnttl                           0\n",
       "mortacc                               0\n",
       "numacctsever120pd                     0\n",
       "numactvbctl                           0\n",
       "numactvrevtl                          0\n",
       "numbcsats                             0\n",
       "numbctl                               0\n",
       "numiltl                               0\n",
       "numoprevtl                            0\n",
       "numrevaccts                           0\n",
       "numrevtlbalgt0                        0\n",
       "numsats                               0\n",
       "numtl30dpd                            0\n",
       "numtl90gdpd24m                        0\n",
       "numtloppast12m                        0\n",
       "pcttlnvrdlq                           0\n",
       "pubrecbankruptcies                    0\n",
       "taxliens                              0\n",
       "tothicredlim                          0\n",
       "totalbalexmort                        0\n",
       "totalbclimit                          0\n",
       "totalilhighcreditlimit                0\n",
       "state_freq                            0\n",
       "zipcode_freq                          0\n",
       "homeownership_ANY                     0\n",
       "homeownership_MORTGAGE                0\n",
       "homeownership_OWN                     0\n",
       "homeownership_RENT                    0\n",
       "verificationstatus_NOT_VERIFIED       0\n",
       "verificationstatus_SOURCE_VERIFIED    0\n",
       "verificationstatus_VERIFIED           0\n",
       "purpose_car                           0\n",
       "purpose_credit_card                   0\n",
       "purpose_debt_consolidation            0\n",
       "purpose_educational                   0\n",
       "purpose_home_improvement              0\n",
       "purpose_house                         0\n",
       "purpose_major_purchase                0\n",
       "purpose_medical                       0\n",
       "purpose_moving                        0\n",
       "purpose_other                         0\n",
       "purpose_renewable_energy              0\n",
       "purpose_small_business                0\n",
       "purpose_vacation                      0\n",
       "purpose_wedding                       0\n",
       "intrate_c1                            0\n",
       "intrate_c2                            0\n",
       "intrate_c3                            0\n",
       "intrate_c4                            0\n",
       "intrate_c5                            0\n",
       "intrate_c6                            0\n",
       "annualinc_b1                          0\n",
       "annualinc_b2                          0\n",
       "annualinc_b3                          0\n",
       "annualinc_b4                          0\n",
       "annualinc_b5                          0\n",
       "annualinc_b6                          0\n",
       "annualinc_b7                          0\n",
       "annualinc_b8                          0\n",
       "annualinc_b9                          0\n",
       "dti_a1                                0\n",
       "dti_a2                                0\n",
       "dti_a3                                0\n",
       "dti_a4                                0\n",
       "dti_a5                                0\n",
       "bcutil_d1                             0\n",
       "bcutil_d2                             0\n",
       "bcutil_d3                             0\n",
       "bcutil_d4                             0\n",
       "bcutil_d5                             0\n",
       "credit_history_e1                     0\n",
       "credit_history_e2                     0\n",
       "credit_history_e3                     0\n",
       "credit_history_e4                     0\n",
       "dtype: int64"
      ]
     },
     "execution_count": 195,
     "metadata": {},
     "output_type": "execute_result"
    }
   ],
   "source": [
    "train_data.isnull().sum()"
   ]
  },
  {
   "cell_type": "code",
   "execution_count": 196,
   "metadata": {},
   "outputs": [],
   "source": [
    "train_data[\"emptitle\"]=train_data[\"emptitle\"].apply(lambda x: int(x))\n",
    "test_data[\"emptitle\"]=test_data[\"emptitle\"].apply(lambda x: int(x))\n",
    "test_data[\"revolutil\"]=test_data[\"revolutil\"].apply(lambda x: float(x))"
   ]
  },
  {
   "cell_type": "markdown",
   "metadata": {},
   "source": [
    "# Training model"
   ]
  },
  {
   "cell_type": "markdown",
   "metadata": {},
   "source": [
    "First model is trained on Standard Random forest Classifier, to observe the impact of feature engineering and to set the benchmark for further model training."
   ]
  },
  {
   "cell_type": "code",
   "execution_count": 236,
   "metadata": {},
   "outputs": [],
   "source": [
    "model=RandomForestClassifier()"
   ]
  },
  {
   "cell_type": "code",
   "execution_count": 203,
   "metadata": {},
   "outputs": [
    {
     "name": "stderr",
     "output_type": "stream",
     "text": [
      "/Users/vishalduhan/anaconda3/lib/python3.7/site-packages/ipykernel_launcher.py:1: DataConversionWarning: A column-vector y was passed when a 1d array was expected. Please change the shape of y to (n_samples,), for example using ravel().\n",
      "  \"\"\"Entry point for launching an IPython kernel.\n"
     ]
    },
    {
     "data": {
      "text/plain": [
       "RandomForestClassifier(bootstrap=True, ccp_alpha=0.0, class_weight=None,\n",
       "                       criterion='gini', max_depth=None, max_features='auto',\n",
       "                       max_leaf_nodes=None, max_samples=None,\n",
       "                       min_impurity_decrease=0.0, min_impurity_split=None,\n",
       "                       min_samples_leaf=1, min_samples_split=2,\n",
       "                       min_weight_fraction_leaf=0.0, n_estimators=100,\n",
       "                       n_jobs=None, oob_score=False, random_state=None,\n",
       "                       verbose=0, warm_start=False)"
      ]
     },
     "execution_count": 203,
     "metadata": {},
     "output_type": "execute_result"
    }
   ],
   "source": [
    "model.fit(train_data,train_data_y)"
   ]
  },
  {
   "cell_type": "code",
   "execution_count": 204,
   "metadata": {},
   "outputs": [],
   "source": [
    "y_pred=model.predict(test_data)"
   ]
  },
  {
   "cell_type": "code",
   "execution_count": 206,
   "metadata": {},
   "outputs": [
    {
     "data": {
      "text/plain": [
       "0.9966734221785503"
      ]
     },
     "execution_count": 206,
     "metadata": {},
     "output_type": "execute_result"
    }
   ],
   "source": [
    "accuracy_score(test_data_y,y_pred)"
   ]
  },
  {
   "cell_type": "markdown",
   "metadata": {},
   "source": [
    "Accuracy of 99.66% IS ACHIEVED ON RANDOM FOREST."
   ]
  },
  {
   "cell_type": "markdown",
   "metadata": {},
   "source": [
    "FROM HERE MODEL IS TRAINED ON XGBOOST AND TUNING IS DONE WITH BAYESIAN OPTIMIZATION."
   ]
  },
  {
   "cell_type": "code",
   "execution_count": 208,
   "metadata": {},
   "outputs": [],
   "source": [
    "dtrain = xgb.DMatrix(train_data, train_data_y, missing= np.nan)\n",
    "dtest = xgb.DMatrix(test_data, missing= np.nan)"
   ]
  },
  {
   "cell_type": "code",
   "execution_count": 209,
   "metadata": {},
   "outputs": [],
   "source": [
    "def xgb_evaluate(min_child_weight,\n",
    "                 colsample_bytree,\n",
    "                 max_depth,\n",
    "                 subsample,\n",
    "                 gamma):\n",
    "    params = dict()\n",
    "    params['objective'] = 'binary:logistic'\n",
    "    params['eta'] = 0.1\n",
    "    params['max_depth'] = int(max_depth)   \n",
    "    params['min_child_weight'] = int(min_child_weight)\n",
    "    params['colsample_bytree'] = colsample_bytree\n",
    "    params['subsample'] = subsample\n",
    "    params['gamma'] = gamma\n",
    "    params['verbose_eval'] = True    \n",
    "\n",
    "\n",
    "    cv_result = xgb.cv(params, dtrain,\n",
    "                       num_boost_round=10000,\n",
    "                       nfold=5,\n",
    "                       metrics={'auc'},\n",
    "                       seed=1234,\n",
    "                       stratified=True,\n",
    "                       callbacks=[xgb.callback.early_stop(30)])\n",
    "\n",
    "    return cv_result['test-auc-mean'].max()"
   ]
  },
  {
   "cell_type": "code",
   "execution_count": 210,
   "metadata": {},
   "outputs": [],
   "source": [
    "xgb_BO = BayesianOptimization(xgb_evaluate, \n",
    "                             {'max_depth': (3, 9),\n",
    "                              'min_child_weight': (0, 80),\n",
    "                              'colsample_bytree': (0.5, 1),\n",
    "                              'subsample': (0.5, 1),\n",
    "                              'gamma': (0, 2)\n",
    "                             }\n",
    "                            )"
   ]
  },
  {
   "cell_type": "markdown",
   "metadata": {},
   "source": [
    "In above cell, provided some parametres ranges to xgb cross validation to train model on. with boost rounds equal to\n",
    "10000, and if no improvement in consecutive 30 rounds then it calls for a stop, metrics chosed here is area under curve."
   ]
  },
  {
   "cell_type": "code",
   "execution_count": 211,
   "metadata": {},
   "outputs": [
    {
     "name": "stdout",
     "output_type": "stream",
     "text": [
      "|   iter    |  target   | colsam... |   gamma   | max_depth | min_ch... | subsample |\n",
      "-------------------------------------------------------------------------------------\n",
      "Multiple eval metrics have been passed: 'test-auc' will be used for early stopping.\n",
      "\n",
      "Will train until test-auc hasn't improved in 30 rounds.\n",
      "Stopping. Best iteration:\n",
      "[845]\ttrain-auc:0.99994+0.00000\ttest-auc:0.99990+0.00004\n",
      "\n",
      "| \u001b[0m 1       \u001b[0m | \u001b[0m 0.9999  \u001b[0m | \u001b[0m 0.7211  \u001b[0m | \u001b[0m 0.3845  \u001b[0m | \u001b[0m 3.071   \u001b[0m | \u001b[0m 73.37   \u001b[0m | \u001b[0m 0.8953  \u001b[0m |\n",
      "Multiple eval metrics have been passed: 'test-auc' will be used for early stopping.\n",
      "\n",
      "Will train until test-auc hasn't improved in 30 rounds.\n",
      "Stopping. Best iteration:\n",
      "[589]\ttrain-auc:0.99994+0.00000\ttest-auc:0.99989+0.00004\n",
      "\n",
      "| \u001b[0m 2       \u001b[0m | \u001b[0m 0.9999  \u001b[0m | \u001b[0m 0.885   \u001b[0m | \u001b[0m 0.1691  \u001b[0m | \u001b[0m 3.024   \u001b[0m | \u001b[0m 45.87   \u001b[0m | \u001b[0m 0.608   \u001b[0m |\n",
      "Multiple eval metrics have been passed: 'test-auc' will be used for early stopping.\n",
      "\n",
      "Will train until test-auc hasn't improved in 30 rounds.\n",
      "Stopping. Best iteration:\n",
      "[486]\ttrain-auc:0.99995+0.00000\ttest-auc:0.99990+0.00004\n",
      "\n",
      "| \u001b[95m 3       \u001b[0m | \u001b[95m 0.9999  \u001b[0m | \u001b[95m 0.7895  \u001b[0m | \u001b[95m 1.69    \u001b[0m | \u001b[95m 8.202   \u001b[0m | \u001b[95m 79.85   \u001b[0m | \u001b[95m 0.9935  \u001b[0m |\n",
      "Multiple eval metrics have been passed: 'test-auc' will be used for early stopping.\n",
      "\n",
      "Will train until test-auc hasn't improved in 30 rounds.\n",
      "Stopping. Best iteration:\n",
      "[312]\ttrain-auc:0.99998+0.00000\ttest-auc:0.99993+0.00004\n",
      "\n",
      "| \u001b[95m 4       \u001b[0m | \u001b[95m 0.9999  \u001b[0m | \u001b[95m 0.7549  \u001b[0m | \u001b[95m 0.3949  \u001b[0m | \u001b[95m 8.809   \u001b[0m | \u001b[95m 28.33   \u001b[0m | \u001b[95m 0.8991  \u001b[0m |\n",
      "Multiple eval metrics have been passed: 'test-auc' will be used for early stopping.\n",
      "\n",
      "Will train until test-auc hasn't improved in 30 rounds.\n",
      "Stopping. Best iteration:\n",
      "[593]\ttrain-auc:0.99999+0.00000\ttest-auc:0.99993+0.00004\n",
      "\n",
      "| \u001b[95m 5       \u001b[0m | \u001b[95m 0.9999  \u001b[0m | \u001b[95m 0.9371  \u001b[0m | \u001b[95m 1.042   \u001b[0m | \u001b[95m 3.731   \u001b[0m | \u001b[95m 0.02654 \u001b[0m | \u001b[95m 0.9716  \u001b[0m |\n",
      "Multiple eval metrics have been passed: 'test-auc' will be used for early stopping.\n",
      "\n",
      "Will train until test-auc hasn't improved in 30 rounds.\n",
      "Stopping. Best iteration:\n",
      "[360]\ttrain-auc:1.00000+0.00000\ttest-auc:0.99994+0.00003\n",
      "\n",
      "| \u001b[95m 6       \u001b[0m | \u001b[95m 0.9999  \u001b[0m | \u001b[95m 0.8175  \u001b[0m | \u001b[95m 0.8947  \u001b[0m | \u001b[95m 9.0     \u001b[0m | \u001b[95m 0.05075 \u001b[0m | \u001b[95m 0.5968  \u001b[0m |\n",
      "Multiple eval metrics have been passed: 'test-auc' will be used for early stopping.\n",
      "\n",
      "Will train until test-auc hasn't improved in 30 rounds.\n",
      "Stopping. Best iteration:\n",
      "[332]\ttrain-auc:0.99994+0.00001\ttest-auc:0.99989+0.00004\n",
      "\n",
      "| \u001b[0m 7       \u001b[0m | \u001b[0m 0.9999  \u001b[0m | \u001b[0m 0.5309  \u001b[0m | \u001b[0m 0.5126  \u001b[0m | \u001b[0m 8.626   \u001b[0m | \u001b[0m 80.0    \u001b[0m | \u001b[0m 0.8595  \u001b[0m |\n",
      "=====================================================================================\n",
      "CPU times: user 22h 24min 2s, sys: 15min 32s, total: 22h 39min 35s\n",
      "Wall time: 2h 6min 5s\n"
     ]
    }
   ],
   "source": [
    "%%time\n",
    "xgb_BO.maximize(init_points=4, n_iter=3)"
   ]
  },
  {
   "cell_type": "markdown",
   "metadata": {},
   "source": [
    "best value of parametres is found here and it is stored in a dataframe."
   ]
  },
  {
   "cell_type": "code",
   "execution_count": 212,
   "metadata": {},
   "outputs": [
    {
     "data": {
      "text/html": [
       "<div>\n",
       "<style scoped>\n",
       "    .dataframe tbody tr th:only-of-type {\n",
       "        vertical-align: middle;\n",
       "    }\n",
       "\n",
       "    .dataframe tbody tr th {\n",
       "        vertical-align: top;\n",
       "    }\n",
       "\n",
       "    .dataframe thead th {\n",
       "        text-align: right;\n",
       "    }\n",
       "</style>\n",
       "<table border=\"1\" class=\"dataframe\">\n",
       "  <thead>\n",
       "    <tr style=\"text-align: right;\">\n",
       "      <th></th>\n",
       "      <th>index</th>\n",
       "      <th>colsample_bytree</th>\n",
       "      <th>gamma</th>\n",
       "      <th>max_depth</th>\n",
       "      <th>min_child_weight</th>\n",
       "      <th>subsample</th>\n",
       "      <th>target</th>\n",
       "    </tr>\n",
       "  </thead>\n",
       "  <tbody>\n",
       "    <tr>\n",
       "      <th>0</th>\n",
       "      <td>5</td>\n",
       "      <td>0.817535</td>\n",
       "      <td>0.894718</td>\n",
       "      <td>8.999993</td>\n",
       "      <td>0.050753</td>\n",
       "      <td>0.596843</td>\n",
       "      <td>0.999935</td>\n",
       "    </tr>\n",
       "    <tr>\n",
       "      <th>1</th>\n",
       "      <td>4</td>\n",
       "      <td>0.937097</td>\n",
       "      <td>1.042494</td>\n",
       "      <td>3.730755</td>\n",
       "      <td>0.026539</td>\n",
       "      <td>0.971642</td>\n",
       "      <td>0.999934</td>\n",
       "    </tr>\n",
       "    <tr>\n",
       "      <th>2</th>\n",
       "      <td>3</td>\n",
       "      <td>0.754897</td>\n",
       "      <td>0.394922</td>\n",
       "      <td>8.808501</td>\n",
       "      <td>28.325571</td>\n",
       "      <td>0.899136</td>\n",
       "      <td>0.999929</td>\n",
       "    </tr>\n",
       "    <tr>\n",
       "      <th>3</th>\n",
       "      <td>2</td>\n",
       "      <td>0.789522</td>\n",
       "      <td>1.690155</td>\n",
       "      <td>8.202218</td>\n",
       "      <td>79.853970</td>\n",
       "      <td>0.993487</td>\n",
       "      <td>0.999899</td>\n",
       "    </tr>\n",
       "    <tr>\n",
       "      <th>4</th>\n",
       "      <td>0</td>\n",
       "      <td>0.721072</td>\n",
       "      <td>0.384520</td>\n",
       "      <td>3.070985</td>\n",
       "      <td>73.369430</td>\n",
       "      <td>0.895315</td>\n",
       "      <td>0.999898</td>\n",
       "    </tr>\n",
       "  </tbody>\n",
       "</table>\n",
       "</div>"
      ],
      "text/plain": [
       "   index  colsample_bytree     gamma  max_depth  min_child_weight  subsample  \\\n",
       "0      5          0.817535  0.894718   8.999993          0.050753   0.596843   \n",
       "1      4          0.937097  1.042494   3.730755          0.026539   0.971642   \n",
       "2      3          0.754897  0.394922   8.808501         28.325571   0.899136   \n",
       "3      2          0.789522  1.690155   8.202218         79.853970   0.993487   \n",
       "4      0          0.721072  0.384520   3.070985         73.369430   0.895315   \n",
       "\n",
       "     target  \n",
       "0  0.999935  \n",
       "1  0.999934  \n",
       "2  0.999929  \n",
       "3  0.999899  \n",
       "4  0.999898  "
      ]
     },
     "execution_count": 212,
     "metadata": {},
     "output_type": "execute_result"
    }
   ],
   "source": [
    "scores = pd.DataFrame(x['params'] for x in xgb_BO.res)\n",
    "scores['target'] = pd.DataFrame(x['target'] for x in xgb_BO.res)\n",
    "scores = scores.sort_values(by='target',ascending=False).reset_index()\n",
    "scores.head()"
   ]
  },
  {
   "cell_type": "code",
   "execution_count": 213,
   "metadata": {
    "scrolled": true
   },
   "outputs": [],
   "source": [
    "best_params = dict()\n",
    "\n",
    "best_params['max_depth'] = int(scores['max_depth'][0])\n",
    "best_params['min_child_weight'] = int(scores['min_child_weight'][0])\n",
    "best_params['colsample_bytree'] = scores['colsample_bytree'][0]\n",
    "best_params['subsample'] = scores['subsample'][0]\n",
    "best_params['gamma'] = scores['gamma'][0]\n",
    "\n",
    "best_params['objective'] = 'binary:logistic'\n",
    "best_params['eta'] = 0.02\n",
    "best_params['seed'] = 1234"
   ]
  },
  {
   "cell_type": "code",
   "execution_count": 214,
   "metadata": {},
   "outputs": [
    {
     "data": {
      "text/plain": [
       "{'max_depth': 8,\n",
       " 'min_child_weight': 0,\n",
       " 'colsample_bytree': 0.8175346819990771,\n",
       " 'subsample': 0.5968425421287629,\n",
       " 'gamma': 0.8947179223971773,\n",
       " 'objective': 'binary:logistic',\n",
       " 'eta': 0.02,\n",
       " 'seed': 1234}"
      ]
     },
     "execution_count": 214,
     "metadata": {},
     "output_type": "execute_result"
    }
   ],
   "source": [
    "best_params"
   ]
  },
  {
   "cell_type": "markdown",
   "metadata": {},
   "source": [
    "In cell below, best iteration is found for the data."
   ]
  },
  {
   "cell_type": "code",
   "execution_count": 215,
   "metadata": {},
   "outputs": [
    {
     "name": "stdout",
     "output_type": "stream",
     "text": [
      "Multiple eval metrics have been passed: 'test-auc' will be used for early stopping.\n",
      "\n",
      "Will train until test-auc hasn't improved in 200 rounds.\n",
      "[0]\ttrain-auc:0.99116+0.00040\ttest-auc:0.99083+0.00083\n",
      "[50]\ttrain-auc:0.99911+0.00009\ttest-auc:0.99899+0.00031\n",
      "[100]\ttrain-auc:0.99943+0.00009\ttest-auc:0.99930+0.00014\n",
      "[150]\ttrain-auc:0.99971+0.00002\ttest-auc:0.99958+0.00013\n",
      "[200]\ttrain-auc:0.99984+0.00002\ttest-auc:0.99972+0.00008\n",
      "[250]\ttrain-auc:0.99989+0.00002\ttest-auc:0.99975+0.00008\n",
      "[300]\ttrain-auc:0.99992+0.00001\ttest-auc:0.99977+0.00007\n",
      "[350]\ttrain-auc:0.99996+0.00001\ttest-auc:0.99980+0.00006\n",
      "[400]\ttrain-auc:0.99998+0.00000\ttest-auc:0.99984+0.00006\n",
      "[450]\ttrain-auc:0.99998+0.00000\ttest-auc:0.99987+0.00005\n",
      "[500]\ttrain-auc:0.99999+0.00000\ttest-auc:0.99989+0.00004\n",
      "[550]\ttrain-auc:0.99999+0.00000\ttest-auc:0.99990+0.00004\n",
      "[600]\ttrain-auc:1.00000+0.00000\ttest-auc:0.99991+0.00004\n",
      "[650]\ttrain-auc:1.00000+0.00000\ttest-auc:0.99992+0.00004\n",
      "[700]\ttrain-auc:1.00000+0.00000\ttest-auc:0.99992+0.00004\n",
      "[750]\ttrain-auc:1.00000+0.00000\ttest-auc:0.99993+0.00004\n",
      "[800]\ttrain-auc:1.00000+0.00000\ttest-auc:0.99993+0.00004\n",
      "[850]\ttrain-auc:1.00000+0.00000\ttest-auc:0.99993+0.00003\n",
      "[900]\ttrain-auc:1.00000+0.00000\ttest-auc:0.99993+0.00003\n",
      "[950]\ttrain-auc:1.00000+0.00000\ttest-auc:0.99993+0.00003\n",
      "[1000]\ttrain-auc:1.00000+0.00000\ttest-auc:0.99994+0.00003\n",
      "[1050]\ttrain-auc:1.00000+0.00000\ttest-auc:0.99994+0.00003\n",
      "[1100]\ttrain-auc:1.00000+0.00000\ttest-auc:0.99994+0.00003\n",
      "[1150]\ttrain-auc:1.00000+0.00000\ttest-auc:0.99994+0.00003\n",
      "[1200]\ttrain-auc:1.00000+0.00000\ttest-auc:0.99994+0.00003\n",
      "[1250]\ttrain-auc:1.00000+0.00000\ttest-auc:0.99994+0.00003\n",
      "[1300]\ttrain-auc:1.00000+0.00000\ttest-auc:0.99994+0.00003\n",
      "[1350]\ttrain-auc:1.00000+0.00000\ttest-auc:0.99994+0.00003\n",
      "[1400]\ttrain-auc:1.00000+0.00000\ttest-auc:0.99994+0.00003\n",
      "[1450]\ttrain-auc:1.00000+0.00000\ttest-auc:0.99994+0.00003\n",
      "[1500]\ttrain-auc:1.00000+0.00000\ttest-auc:0.99994+0.00003\n",
      "[1550]\ttrain-auc:1.00000+0.00000\ttest-auc:0.99994+0.00003\n",
      "[1600]\ttrain-auc:1.00000+0.00000\ttest-auc:0.99994+0.00003\n",
      "[1650]\ttrain-auc:1.00000+0.00000\ttest-auc:0.99994+0.00003\n",
      "[1700]\ttrain-auc:1.00000+0.00000\ttest-auc:0.99994+0.00003\n",
      "[1750]\ttrain-auc:1.00000+0.00000\ttest-auc:0.99994+0.00003\n",
      "[1800]\ttrain-auc:1.00000+0.00000\ttest-auc:0.99994+0.00003\n",
      "[1850]\ttrain-auc:1.00000+0.00000\ttest-auc:0.99994+0.00003\n",
      "[1900]\ttrain-auc:1.00000+0.00000\ttest-auc:0.99994+0.00003\n",
      "[1950]\ttrain-auc:1.00000+0.00000\ttest-auc:0.99994+0.00003\n",
      "[2000]\ttrain-auc:1.00000+0.00000\ttest-auc:0.99994+0.00003\n",
      "[2050]\ttrain-auc:1.00000+0.00000\ttest-auc:0.99994+0.00003\n",
      "[2100]\ttrain-auc:1.00000+0.00000\ttest-auc:0.99994+0.00003\n",
      "[2150]\ttrain-auc:1.00000+0.00000\ttest-auc:0.99994+0.00003\n",
      "[2200]\ttrain-auc:1.00000+0.00000\ttest-auc:0.99994+0.00003\n",
      "[2250]\ttrain-auc:1.00000+0.00000\ttest-auc:0.99994+0.00003\n",
      "[2300]\ttrain-auc:1.00000+0.00000\ttest-auc:0.99994+0.00003\n",
      "[2350]\ttrain-auc:1.00000+0.00000\ttest-auc:0.99994+0.00003\n",
      "[2400]\ttrain-auc:1.00000+0.00000\ttest-auc:0.99994+0.00003\n",
      "Stopping. Best iteration:\n",
      "[2213]\ttrain-auc:1.00000+0.00000\ttest-auc:0.99994+0.00003\n",
      "\n",
      "Best score 0.999942, best iteration 2214\n"
     ]
    }
   ],
   "source": [
    "cv_result = xgb.cv(best_params, dtrain,\n",
    "                   num_boost_round=15000,\n",
    "                   nfold=5,\n",
    "                   metrics={'auc'},\n",
    "                   seed=1234,\n",
    "                   stratified=True,\n",
    "                   callbacks=[xgb.callback.early_stop(200)],\n",
    "                   verbose_eval=50)\n",
    "\n",
    "\n",
    "best_iteration = len(cv_result)\n",
    "best_score = cv_result['test-auc-mean'].max()\n",
    "print(\"Best score %f, best iteration %d\" % (best_score,best_iteration) )"
   ]
  },
  {
   "cell_type": "markdown",
   "metadata": {},
   "source": [
    "Now, data is trained using best paramentres values, best iteration."
   ]
  },
  {
   "cell_type": "code",
   "execution_count": 216,
   "metadata": {},
   "outputs": [],
   "source": [
    "gbm = xgb.train(best_params, dtrain, num_boost_round=best_iteration)"
   ]
  },
  {
   "cell_type": "code",
   "execution_count": 217,
   "metadata": {},
   "outputs": [],
   "source": [
    "dtest.feature_names=dtrain.feature_names"
   ]
  },
  {
   "cell_type": "markdown",
   "metadata": {},
   "source": [
    "outputs for test data is predicted on trained model."
   ]
  },
  {
   "cell_type": "code",
   "execution_count": 218,
   "metadata": {},
   "outputs": [],
   "source": [
    "y_pred = gbm.predict(dtest)"
   ]
  },
  {
   "cell_type": "code",
   "execution_count": 672,
   "metadata": {},
   "outputs": [],
   "source": [
    "pickle.dump(gbm, open(\"trainedmodel.dat\", \"wb\"))"
   ]
  },
  {
   "cell_type": "markdown",
   "metadata": {},
   "source": [
    "ROC curve and AUC is plotted here."
   ]
  },
  {
   "cell_type": "code",
   "execution_count": 223,
   "metadata": {},
   "outputs": [],
   "source": [
    "x_t, x_cv, y_t, y_cv = train_test_split(train_data, train_data_y, test_size = 0.3, \\\n",
    "                                    random_state = 1234, stratify = train_data_y)"
   ]
  },
  {
   "cell_type": "code",
   "execution_count": 224,
   "metadata": {},
   "outputs": [],
   "source": [
    "def draw_ROC (model, traindata, cvdata, testdata, trainy, cvy, testy):\n",
    "    prob_0 = model.predict(traindata)\n",
    "    prob_1 = model.predict(cvdata)\n",
    "    prob_2 = model.predict(testdata)\n",
    "    fpr_0, tpr_0, thresholds_0 = roc_curve(trainy, prob_0)\n",
    "    fpr_1, tpr_1, thresholds_1 = roc_curve(cvy, prob_1)\n",
    "    fpr_2, tpr_2, thresholds_2 = roc_curve(testy, prob_2)\n",
    "    roc_auc_0 = auc(fpr_0, tpr_0)\n",
    "    roc_auc_1 = auc(fpr_1, tpr_1)\n",
    "    roc_auc_2 = auc(fpr_2, tpr_2)\n",
    "    \n",
    "    print (\"Area under the ROC Curve - Train: %f\" %(roc_auc_0))\n",
    "    print (\"Area under the ROC Curve - Validation: %f\" % (roc_auc_1))\n",
    "    print (\"Area under the ROC Curve - Test: %f\" % (roc_auc_2))\n",
    "    \n",
    "    Youdens_0 = tpr_0 - fpr_0\n",
    "    Youdens_1 = tpr_1 - fpr_1\n",
    "    Youdens_2 = tpr_2 - fpr_2\n",
    "    \n",
    "    #Plot ROC Curve\n",
    "    plt.figure(figsize = (8,8))\n",
    "    plt.plot(fpr_0, tpr_0, label = 'ROC Curve - Train (AUC = %0.2f)' % (roc_auc_0), color= 'r')\n",
    "    plt.plot(fpr_1, tpr_1, label = 'ROC Curve - Validation (AUC = %0.2f)' % (roc_auc_1), color= 'b')\n",
    "    plt.plot(fpr_2, tpr_2, label = 'ROC Curve - Test (AUC = %0.2f)' % (roc_auc_2), color= 'g')\n",
    "    plt.plot([0,1], [0, 1], 'k--')\n",
    "    plt.xlim([0.0, 1.0])\n",
    "    plt.ylim([0.0, 1.0])\n",
    "    plt.xlabel('False Positive Rate')\n",
    "    plt.ylabel('True Positive Rate')\n",
    "    plt.title('ROC for lead score model')\n",
    "    plt.legend(loc='lower right')\n",
    "    plt.show()\n",
    "    \n",
    "    return (Youdens_0, thresholds_0, Youdens_1, thresholds_1, Youdens_2, thresholds_2)"
   ]
  },
  {
   "cell_type": "code",
   "execution_count": 225,
   "metadata": {},
   "outputs": [],
   "source": [
    "x_t_xgb = xgb.DMatrix(x_t, missing= np.nan)\n",
    "x_cv_xgb = xgb.DMatrix(x_cv, missing= np.nan)"
   ]
  },
  {
   "cell_type": "code",
   "execution_count": 226,
   "metadata": {},
   "outputs": [
    {
     "name": "stdout",
     "output_type": "stream",
     "text": [
      "Area under the ROC Curve - Train: 1.000000\n",
      "Area under the ROC Curve - Validation: 1.000000\n",
      "Area under the ROC Curve - Test: 0.999949\n"
     ]
    },
    {
     "data": {
      "image/png": "[encoded data removed]",
      "text/plain": [
       "<Figure size 576x576 with 1 Axes>"
      ]
     },
     "metadata": {
      "needs_background": "light"
     },
     "output_type": "display_data"
    }
   ],
   "source": [
    "Youdens_0, thresholds_0, Youdens_1, thresholds_1, Youdens_2, thresholds_2 = \\\n",
    "draw_ROC(gbm, x_t_xgb, x_cv_xgb, dtest, y_t, y_cv, test_data_y)"
   ]
  },
  {
   "cell_type": "markdown",
   "metadata": {},
   "source": [
    "Here , threshold is found to be near 0.5 as Youden index is max at 0.5."
   ]
  },
  {
   "cell_type": "code",
   "execution_count": 227,
   "metadata": {},
   "outputs": [
    {
     "data": {
      "text/plain": [
       "Text(0, 0.5, \"Youden's Index\")"
      ]
     },
     "execution_count": 227,
     "metadata": {},
     "output_type": "execute_result"
    },
    {
     "data": {
      "image/png": "[encoded data removed]",
      "text/plain": [
       "<Figure size 576x576 with 1 Axes>"
      ]
     },
     "metadata": {
      "needs_background": "light"
     },
     "output_type": "display_data"
    }
   ],
   "source": [
    "plt.figure(figsize = (8,8))\n",
    "plt.plot(thresholds_0, Youdens_0, label = \"Youden's Index - Train\", color= 'r')\n",
    "plt.plot(thresholds_1, Youdens_1, label = \"Youden's Index - Validation\", color= 'b')\n",
    "plt.plot(thresholds_2, Youdens_2, label = \"Youden's Index - Test\", color= 'g')\n",
    "plt.xlabel('Thresholds')\n",
    "plt.ylabel(\"Youden's Index\")"
   ]
  },
  {
   "cell_type": "code",
   "execution_count": 228,
   "metadata": {},
   "outputs": [],
   "source": [
    "t=y_pred.copy()"
   ]
  },
  {
   "cell_type": "markdown",
   "metadata": {},
   "source": [
    "Comparing every predicted value with 0.5 as 0.5 is our threshold."
   ]
  },
  {
   "cell_type": "code",
   "execution_count": 230,
   "metadata": {},
   "outputs": [],
   "source": [
    "z=[]\n",
    "for x in t:\n",
    "    if x<=0.5:\n",
    "        z.append(0)\n",
    "    else:\n",
    "        z.append(1)"
   ]
  },
  {
   "cell_type": "code",
   "execution_count": 231,
   "metadata": {},
   "outputs": [
    {
     "data": {
      "text/plain": [
       "0.9996963431527087"
      ]
     },
     "execution_count": 231,
     "metadata": {},
     "output_type": "execute_result"
    }
   ],
   "source": [
    "accuracy_score(test_data_y,z)"
   ]
  },
  {
   "cell_type": "markdown",
   "metadata": {},
   "source": [
    "Accuracy with Xgboost seems to over-perform Random Forest as accuracy_xgboost - accuracy_rf=0.00302"
   ]
  },
  {
   "cell_type": "code",
   "execution_count": 233,
   "metadata": {},
   "outputs": [],
   "source": [
    "cm = confusion_matrix(test_data_y, z)"
   ]
  },
  {
   "cell_type": "code",
   "execution_count": 234,
   "metadata": {},
   "outputs": [
    {
     "data": {
      "image/png": "[encoded data removed]",
      "text/plain": [
       "<Figure size 1080x432 with 2 Axes>"
      ]
     },
     "metadata": {
      "needs_background": "light"
     },
     "output_type": "display_data"
    }
   ],
   "source": [
    "plt.figure(figsize=(15, 6))\n",
    "ax= plt.subplot()\n",
    "sns.heatmap(cm, annot=True, ax = ax,cmap=\"Blues\"); \n",
    "ax.set_xlabel('Predicted labels');ax.set_ylabel('True labels'); \n",
    "ax.set_title('Confusion Matrix'); \n",
    "ax.xaxis.set_ticklabels(['No Default', 'Default']); ax.yaxis.set_ticklabels(['No Default', 'Default']);"
   ]
  },
  {
   "cell_type": "markdown",
   "metadata": {},
   "source": [
    "This methodology can be used to assist investor with their decision of investment on Lending Club. This model predicts the outputs of whether a certain profile is going to default or not using historic data. In this program I have used data of 2015 year as train data and data of 2016 year as test data to build a Machine Learning model. And, acquired a whopping accuracy of more than 99%."
   ]
  }
 ],
 "metadata": {
  "kernelspec": {
   "display_name": "Python 3",
   "language": "python",
   "name": "python3"
  },
  "language_info": {
   "codemirror_mode": {
    "name": "ipython",
    "version": 3
   },
   "file_extension": ".py",
   "mimetype": "text/x-python",
   "name": "python",
   "nbconvert_exporter": "python",
   "pygments_lexer": "ipython3",
   "version": "3.7.3"
  }
 },
 "nbformat": 4,
 "nbformat_minor": 4
}
